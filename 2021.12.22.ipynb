{
 "cells": [
  {
   "cell_type": "markdown",
   "id": "e38ca59c",
   "metadata": {},
   "source": [
    "#### 삼항연산자\n",
    "-if 조건식 else b\n",
    "-\n",
    "-"
   ]
  },
  {
   "cell_type": "code",
   "execution_count": 2,
   "id": "f18e393f",
   "metadata": {},
   "outputs": [
    {
     "data": {
      "text/plain": [
       "'불합격'"
      ]
     },
     "execution_count": 2,
     "metadata": {},
     "output_type": "execute_result"
    }
   ],
   "source": [
    "score =50\n",
    "'합격' if score >= 60 else '불합격'"
   ]
  },
  {
   "cell_type": "code",
   "execution_count": 10,
   "id": "1507f66d",
   "metadata": {},
   "outputs": [
    {
     "name": "stdout",
     "output_type": "stream",
     "text": [
      "정수 입력>> 3\n",
      "정수 입력>> 10\n",
      "b: 10\n",
      "a:3\n"
     ]
    }
   ],
   "source": [
    "a= int(input(\"정수 입력>> \"))\n",
    "b= int(input(\"정수 입력>> \"))\n",
    "\n",
    "print('a:',a)if a>b else print('b:',b)\n",
    "print(f'b:{b}')if a>b else print(f'a:{a}')\n"
   ]
  },
  {
   "cell_type": "code",
   "execution_count": 25,
   "id": "4a957500",
   "metadata": {},
   "outputs": [
    {
     "name": "stdout",
     "output_type": "stream",
     "text": [
      "첫 번째 정수 입력>> 3\n",
      "두 번째 정수 입력>> 10\n",
      "두 수의 차:7\n"
     ]
    }
   ],
   "source": [
    "a= int(input(\"첫 번째 정수 입력>> \"))\n",
    "b= int(input(\"두 번째 정수 입력>> \"))\n",
    "\n",
    "\n",
    "print(f'두 수의 차:{b-a}') if a<b else print(f'a-b:{a-b}')"
   ]
  },
  {
   "cell_type": "code",
   "execution_count": 31,
   "id": "a6b72bff",
   "metadata": {},
   "outputs": [
    {
     "name": "stdout",
     "output_type": "stream",
     "text": [
      "정수 입력>> 27\n",
      "27는 홀수 입니다.\n"
     ]
    }
   ],
   "source": [
    "a= int(input(\"정수 입력>> \"))\n",
    "result = '짝수' if a%2==0 else '홀수'\n",
    "print(f'{a}는 {result} 입니다.')"
   ]
  },
  {
   "cell_type": "code",
   "execution_count": null,
   "id": "3602780e",
   "metadata": {},
   "outputs": [],
   "source": [
    "print(f'{a}는 홀수 입니다.')if a%2==1 else print(f'{a}는 짝수 입니다.') "
   ]
  },
  {
   "cell_type": "markdown",
   "id": "fd5a899d",
   "metadata": {},
   "source": [
    "#### 조건문 if 조건식 : (들여쓰기 ) if/ elif/else"
   ]
  },
  {
   "cell_type": "code",
   "execution_count": 1,
   "id": "8e4c264f",
   "metadata": {},
   "outputs": [
    {
     "name": "stdout",
     "output_type": "stream",
     "text": [
      "실행문장실행\n",
      "if문 밖에 있는 문장 실행\n"
     ]
    }
   ],
   "source": [
    "if True:\n",
    "    print('실행문장실행')\n",
    "print('if문 밖에 있는 문장 실행')"
   ]
  },
  {
   "cell_type": "code",
   "execution_count": 2,
   "id": "18e3467d",
   "metadata": {},
   "outputs": [
    {
     "name": "stdout",
     "output_type": "stream",
     "text": [
      "if문 밖에 있는 문장 실행\n"
     ]
    }
   ],
   "source": [
    "if False:\n",
    "    print('실행문장실행')\n",
    "print('if문 밖에 있는 문장 실행')"
   ]
  },
  {
   "cell_type": "code",
   "execution_count": 4,
   "id": "b0f180c4",
   "metadata": {},
   "outputs": [
    {
     "name": "stdout",
     "output_type": "stream",
     "text": [
      "돈>>6000\n",
      "버스를 탄다\n"
     ]
    }
   ],
   "source": [
    "money = int(input(\"돈>>\"))\n",
    "if money>=10000:\n",
    "    print(\"택시를 탄다\")\n",
    "else:\n",
    "    print(\"버스를 탄다\")"
   ]
  },
  {
   "cell_type": "code",
   "execution_count": null,
   "id": "fcb2373b",
   "metadata": {},
   "outputs": [],
   "source": [
    "num = int(input(\"정수 입력>>\"))\n",
    "if num%3 ==0 and num%5 ==0 :\n",
    "    print(\"3과 5의 배수입니다.\")\n",
    "else:\n",
    "    print( \"3과 5의 배수가 아닙니다.\")"
   ]
  },
  {
   "cell_type": "code",
   "execution_count": 10,
   "id": "6a490a29",
   "metadata": {
    "scrolled": true
   },
   "outputs": [
    {
     "name": "stdout",
     "output_type": "stream",
     "text": [
      "첫 번째 정수 입력>> 1\n",
      "두 번째 정수 입력>> 1\n",
      "두 수가 같습니다.\n"
     ]
    }
   ],
   "source": [
    "a= int(input(\"첫 번째 정수 입력>> \"))\n",
    "b= int(input(\"두 번째 정수 입력>> \"))\n",
    "\n",
    "if a>b :\n",
    "    print(\"첫 번째 정수가 더 큽니다.\")\n",
    "elif a<b :\n",
    "    print(\"두 번째 정수가 더 큽니다.\")\n",
    "else:\n",
    "    print(\"두 수가 같습니다.\")"
   ]
  },
  {
   "cell_type": "code",
   "execution_count": 16,
   "id": "2360953d",
   "metadata": {},
   "outputs": [
    {
     "name": "stdout",
     "output_type": "stream",
     "text": [
      "점수 입력>>10000\n",
      "정확한 점수를 입력하십시오\n"
     ]
    }
   ],
   "source": [
    "score = int(input(\"점수 입력>>\"))\n",
    "\n",
    "if score <=100 and score >=90 :\n",
    "    print(f'{score}점은 A학점 입니다.')\n",
    "elif score <90 and score >=80 :\n",
    "    print(f'{score}점은 B학점 입니다.')\n",
    "elif score <80 and score >=70 :\n",
    "    print(f'{score}점은 C학점 입니다.')\n",
    "elif score <70 and score >=60 :\n",
    "    print(f'{score}점은 D학점 입니다.')\n",
    "elif score <60 and score >=0 :\n",
    "    print(f'{score}점은 F학점 입니다.')\n",
    "else:\n",
    "    print('정확한 점수를 입력하십시오')"
   ]
  },
  {
   "cell_type": "code",
   "execution_count": 18,
   "id": "63f209d9",
   "metadata": {},
   "outputs": [
    {
     "name": "stdout",
     "output_type": "stream",
     "text": [
      "점수 입력>>96\n",
      "96 점은 A 학점 입니다.\n"
     ]
    }
   ],
   "source": [
    "score = int(input(\"점수 입력>>\"))\n",
    "\n",
    "if score <=100 and score >=90 :\n",
    "    grade = \"A\"\n",
    "elif score <90 and score >=80 :\n",
    "     grade = \"B\"\n",
    "elif score <80 and score >=70 :\n",
    "    grade = \"C\"\n",
    "elif score <70 and score >=60 :\n",
    "     grade = \"D\"\n",
    "elif score <60 and score >=0 :\n",
    "     grade = \"F\"\n",
    "print(f'{score} 점은 {grade} 학점 입니다.')\n"
   ]
  },
  {
   "cell_type": "code",
   "execution_count": 23,
   "id": "0865e09c",
   "metadata": {},
   "outputs": [
    {
     "name": "stdout",
     "output_type": "stream",
     "text": [
      "\n",
      "================================================\n",
      "================---- 자판기 ----================\n",
      "================================================\n",
      "== 1.콜라 == 2.사이다 ==  3.물  =======insert===\n",
      "==--------==----------==--------=======------===\n",
      "==   600  ==    800   ==  1000  ======= O00원===\n",
      "=======================================------===\n",
      "================================================\n",
      "==++++++++++++++++++++++++++++++++++++++++++++==\n",
      "==++++++++++++++++++++++++++++++++++++++++++++==\n",
      "==++++++++++++++++++++++++++++++++++++++++++++==\n",
      "==+++++++++++++++              +++++++++++++++==\n",
      "==+++++++++++++++     SMHRD    +++++++++++++++==\n",
      "==+++++++++++++++              +++++++++++++++==\n",
      "==++++++++++++++++++++++++++++++++++++++++++++==\n",
      "==++++++++++++++++++++++++++++++++++++++++++++==\n",
      "================================================\n",
      "================================================\n",
      "  ===                                      ===\n",
      "  ===                                      ===\n",
      "\n",
      "insert coin>>2200\n",
      "\n",
      "\n",
      "\n",
      "==============---- 구매 목록 ----==============\n",
      "===============================================\n",
      "== 1.콜라 0 개 == 2.사이다 0 개 ==  3.물 0 개==\n",
      "\n",
      "잔돈>> 2200원\n",
      "    1000원 3개, 500원 0개, 100원 0개\n",
      "\n",
      "\n",
      "    select menu: [1] 콜라   [2] 사이다   [3] 물 \n",
      "                 [4] insert [5] 잔돈 받기1\n",
      "\n",
      "================================================\n",
      "================---- 자판기 ----================\n",
      "================================================\n",
      "== 1.콜라 == 2.사이다 ==  3.물  =======insert===\n",
      "==--------==----------==--------=======------===\n",
      " =   600  ==    800   ==  1000  === 1600원  =\n",
      "=======================================------===\n",
      "================================================\n",
      "==++++++++++++++++++++++++++++++++++++++++++++==\n",
      "==++++++++++++++++++++++++++++++++++++++++++++==\n",
      "==++++++++++++++++++++++++++++++++++++++++++++==\n",
      "==+++++++++++++++              +++++++++++++++==\n",
      "==+++++++++++++++     SMHRD    +++++++++++++++==\n",
      "==+++++++++++++++              +++++++++++++++==\n",
      "==++++++++++++++++++++++++++++++++++++++++++++==\n",
      "==++++++++++++++++++++++++++++++++++++++++++++==\n",
      "================================================\n",
      "================================================\n",
      "  ===                                      ===\n",
      "  ===           [.`.`.`.]                  ===\n",
      "              콜라가 나왔습니다.\n",
      "\n",
      "\n",
      "\n",
      "\n",
      "==============---- 구매 목록 ----==============\n",
      "===============================================\n",
      "== 1.콜라 1 개 == 2.사이다 0 개 ==  3.물 0 개==\n",
      "\n",
      "잔돈>> 1600원\n",
      "    1000원 1개, 500원 1개, 100원 1개\n",
      "\n"
     ]
    },
    {
     "ename": "KeyboardInterrupt",
     "evalue": "Interrupted by user",
     "output_type": "error",
     "traceback": [
      "\u001b[1;31m---------------------------------------------------------------------------\u001b[0m",
      "\u001b[1;31mKeyboardInterrupt\u001b[0m                         Traceback (most recent call last)",
      "\u001b[1;32m~\\AppData\\Local\\Temp/ipykernel_14600/702006242.py\u001b[0m in \u001b[0;36m<module>\u001b[1;34m\u001b[0m\n\u001b[0;32m     32\u001b[0m     print(f'''잔돈>> {coin}원\n\u001b[0;32m     33\u001b[0m     1000원 {tho}개, 500원 {fif}개, 100원 {hun}개\\n''')\n\u001b[1;32m---> 34\u001b[1;33m     select = int(input('''\n\u001b[0m\u001b[0;32m     35\u001b[0m     \u001b[0mselect\u001b[0m \u001b[0mmenu\u001b[0m\u001b[1;33m:\u001b[0m \u001b[1;33m[\u001b[0m\u001b[1;36m1\u001b[0m\u001b[1;33m]\u001b[0m \u001b[0m콜라\u001b[0m   \u001b[1;33m[\u001b[0m\u001b[1;36m2\u001b[0m\u001b[1;33m]\u001b[0m \u001b[0m사이다\u001b[0m   \u001b[1;33m[\u001b[0m\u001b[1;36m3\u001b[0m\u001b[1;33m]\u001b[0m \u001b[0m물\u001b[0m\u001b[1;33m\u001b[0m\u001b[1;33m\u001b[0m\u001b[0m\n\u001b[0;32m     36\u001b[0m                  [4] insert [5] 잔돈 받기'''))\n",
      "\u001b[1;32m~\\anaconda3\\lib\\site-packages\\ipykernel\\kernelbase.py\u001b[0m in \u001b[0;36mraw_input\u001b[1;34m(self, prompt)\u001b[0m\n\u001b[0;32m   1004\u001b[0m                 \u001b[1;34m\"raw_input was called, but this frontend does not support input requests.\"\u001b[0m\u001b[1;33m\u001b[0m\u001b[1;33m\u001b[0m\u001b[0m\n\u001b[0;32m   1005\u001b[0m             )\n\u001b[1;32m-> 1006\u001b[1;33m         return self._input_request(\n\u001b[0m\u001b[0;32m   1007\u001b[0m             \u001b[0mstr\u001b[0m\u001b[1;33m(\u001b[0m\u001b[0mprompt\u001b[0m\u001b[1;33m)\u001b[0m\u001b[1;33m,\u001b[0m\u001b[1;33m\u001b[0m\u001b[1;33m\u001b[0m\u001b[0m\n\u001b[0;32m   1008\u001b[0m             \u001b[0mself\u001b[0m\u001b[1;33m.\u001b[0m\u001b[0m_parent_ident\u001b[0m\u001b[1;33m[\u001b[0m\u001b[1;34m\"shell\"\u001b[0m\u001b[1;33m]\u001b[0m\u001b[1;33m,\u001b[0m\u001b[1;33m\u001b[0m\u001b[1;33m\u001b[0m\u001b[0m\n",
      "\u001b[1;32m~\\anaconda3\\lib\\site-packages\\ipykernel\\kernelbase.py\u001b[0m in \u001b[0;36m_input_request\u001b[1;34m(self, prompt, ident, parent, password)\u001b[0m\n\u001b[0;32m   1049\u001b[0m             \u001b[1;32mexcept\u001b[0m \u001b[0mKeyboardInterrupt\u001b[0m\u001b[1;33m:\u001b[0m\u001b[1;33m\u001b[0m\u001b[1;33m\u001b[0m\u001b[0m\n\u001b[0;32m   1050\u001b[0m                 \u001b[1;31m# re-raise KeyboardInterrupt, to truncate traceback\u001b[0m\u001b[1;33m\u001b[0m\u001b[1;33m\u001b[0m\u001b[0m\n\u001b[1;32m-> 1051\u001b[1;33m                 \u001b[1;32mraise\u001b[0m \u001b[0mKeyboardInterrupt\u001b[0m\u001b[1;33m(\u001b[0m\u001b[1;34m\"Interrupted by user\"\u001b[0m\u001b[1;33m)\u001b[0m \u001b[1;32mfrom\u001b[0m \u001b[1;32mNone\u001b[0m\u001b[1;33m\u001b[0m\u001b[1;33m\u001b[0m\u001b[0m\n\u001b[0m\u001b[0;32m   1052\u001b[0m             \u001b[1;32mexcept\u001b[0m \u001b[0mException\u001b[0m\u001b[1;33m:\u001b[0m\u001b[1;33m\u001b[0m\u001b[1;33m\u001b[0m\u001b[0m\n\u001b[0;32m   1053\u001b[0m                 \u001b[0mself\u001b[0m\u001b[1;33m.\u001b[0m\u001b[0mlog\u001b[0m\u001b[1;33m.\u001b[0m\u001b[0mwarning\u001b[0m\u001b[1;33m(\u001b[0m\u001b[1;34m\"Invalid Message:\"\u001b[0m\u001b[1;33m,\u001b[0m \u001b[0mexc_info\u001b[0m\u001b[1;33m=\u001b[0m\u001b[1;32mTrue\u001b[0m\u001b[1;33m)\u001b[0m\u001b[1;33m\u001b[0m\u001b[1;33m\u001b[0m\u001b[0m\n",
      "\u001b[1;31mKeyboardInterrupt\u001b[0m: Interrupted by user"
     ]
    }
   ],
   "source": [
    "print('''\n",
    "================================================\n",
    "================---- 자판기 ----================\n",
    "================================================\n",
    "== 1.콜라 == 2.사이다 ==  3.물  =======insert===\n",
    "==--------==----------==--------=======------===\n",
    "==   600  ==    800   ==  1000  ======= O00원===\n",
    "=======================================------===\n",
    "================================================\n",
    "==++++++++++++++++++++++++++++++++++++++++++++==\n",
    "==++++++++++++++++++++++++++++++++++++++++++++==\n",
    "==++++++++++++++++++++++++++++++++++++++++++++==\n",
    "==+++++++++++++++              +++++++++++++++==\n",
    "==+++++++++++++++     SMHRD    +++++++++++++++==\n",
    "==+++++++++++++++              +++++++++++++++==\n",
    "==++++++++++++++++++++++++++++++++++++++++++++==\n",
    "==++++++++++++++++++++++++++++++++++++++++++++==\n",
    "================================================\n",
    "================================================\n",
    "  ===                                      ===\n",
    "  ===                                      ===\n",
    "''')\n",
    "select = 0\n",
    "coke, cider, water = 0,0,0\n",
    "coin = int(input('insert coin>>'))\n",
    "\n",
    "while(select != 5):\n",
    "    print('\\n\\n')\n",
    "    print(f'''==============---- 구매 목록 ----==============\n",
    "===============================================\n",
    "== 1.콜라 {coke} 개 == 2.사이다 {cider} 개 ==  3.물 {water} 개==\\n''')\n",
    "    print(f'''잔돈>> {coin}원\n",
    "    1000원 {tho}개, 500원 {fif}개, 100원 {hun}개\\n''')\n",
    "    select = int(input('''\n",
    "    select menu: [1] 콜라   [2] 사이다   [3] 물 \n",
    "                 [4] insert [5] 잔돈 받기'''))\n",
    "    if select == 1 and coin >=600:\n",
    "        coin-=600\n",
    "        tho = coin//1000\n",
    "        fif = coin % 1000 //500\n",
    "        hun = coin%500//100\n",
    "        print(f'''\n",
    "================================================\n",
    "================---- 자판기 ----================\n",
    "================================================\n",
    "== 1.콜라 == 2.사이다 ==  3.물  =======insert===\n",
    "==--------==----------==--------=======------===\n",
    " =   600  ==    800   ==  1000  === {coin}원  =\n",
    "=======================================------===\n",
    "================================================\n",
    "==++++++++++++++++++++++++++++++++++++++++++++==\n",
    "==++++++++++++++++++++++++++++++++++++++++++++==\n",
    "==++++++++++++++++++++++++++++++++++++++++++++==\n",
    "==+++++++++++++++              +++++++++++++++==\n",
    "==+++++++++++++++     SMHRD    +++++++++++++++==\n",
    "==+++++++++++++++              +++++++++++++++==\n",
    "==++++++++++++++++++++++++++++++++++++++++++++==\n",
    "==++++++++++++++++++++++++++++++++++++++++++++==\n",
    "================================================\n",
    "================================================\n",
    "  ===                                      ===\n",
    "  ===           [.`.`.`.]                  ===\n",
    "              콜라가 나왔습니다.\n",
    "''')\n",
    "        coke+=1\n",
    "        \n",
    "\n",
    "    elif select == 2 and coin >=800:\n",
    "        coin-=800\n",
    "        원1000 = coin//1000\n",
    "        원500 = coin % 1000 //500\n",
    "        원100 = coin%500//100\n",
    "       \n",
    "        print(f'''\n",
    "================================================\n",
    "================---- 자판기 ----================\n",
    "================================================\n",
    "== 1.콜라 == 2.사이다 ==  3.물  =======insert===\n",
    "==--------==----------==--------=======------===\n",
    " =   600  ==    800   ==  1000  === {coin}원  =\n",
    "=======================================------===\n",
    "================================================\n",
    "==++++++++++++++++++++++++++++++++++++++++++++==\n",
    "==++++++++++++++++++++++++++++++++++++++++++++==\n",
    "==++++++++++++++++++++++++++++++++++++++++++++==\n",
    "==+++++++++++++++              +++++++++++++++==\n",
    "==+++++++++++++++     SMHRD    +++++++++++++++==\n",
    "==+++++++++++++++              +++++++++++++++==\n",
    "==++++++++++++++++++++++++++++++++++++++++++++==\n",
    "==++++++++++++++++++++++++++++++++++++++++++++==\n",
    "================================================\n",
    "================================================\n",
    "  ===                                      ===\n",
    "  ===           [`_`_`_`]                  ===\n",
    "              사이다가 나왔습니다.\n",
    "''')\n",
    "        cider +=1\n",
    "    \n",
    "    elif select == 3 and coin >=1000:\n",
    "        coin-=1000\n",
    "        원1000 = coin//1000\n",
    "        원500 = coin % 1000 //500\n",
    "        원100 = coin%500//100\n",
    "        \n",
    "        print(f'''\n",
    "================================================\n",
    "================---- 자판기 ----================\n",
    "================================================\n",
    "== 1.콜라 == 2.사이다 ==  3.물  =======insert===\n",
    "==--------==----------==--------=======------===\n",
    " =   600  ==    800   ==  1000  === {coin}원  =\n",
    "=======================================------===\n",
    "================================================\n",
    "==++++++++++++++++++++++++++++++++++++++++++++==\n",
    "==++++++++++++++++++++++++++++++++++++++++++++==\n",
    "==++++++++++++++++++++++++++++++++++++++++++++==\n",
    "==+++++++++++++++              +++++++++++++++==\n",
    "==+++++++++++++++     SMHRD    +++++++++++++++==\n",
    "==+++++++++++++++              +++++++++++++++==\n",
    "==++++++++++++++++++++++++++++++++++++++++++++==\n",
    "==++++++++++++++++++++++++++++++++++++++++++++==\n",
    "================================================\n",
    "================================================\n",
    "  ===                                      ===\n",
    "  ===           [.`.`.`.]                  ===\n",
    "              물이 나왔습니다.\n",
    "''')\n",
    "        water+=1\n",
    "   \n",
    "        \n",
    "    elif select == 4 :\n",
    "        add = int(input('insert coin>>'))\n",
    "        coin+=add\n",
    "        print(coin,\"원\")\n",
    "        print(f'''\n",
    "================================================\n",
    "================---- 자판기 ----================\n",
    "================================================\n",
    "== 1.콜라 == 2.사이다 ==  3.물  =======insert===\n",
    "==--------==----------==--------=======------===\n",
    " =   600  ==    800   ==  1000  === {coin}원  =\n",
    "=======================================------===\n",
    "================================================\n",
    "==++++++++++++++++++++++++++++++++++++++++++++==\n",
    "==++++++++++++++++++++++++++++++++++++++++++++==\n",
    "==++++++++++++++++++++++++++++++++++++++++++++==\n",
    "==+++++++++++++++              +++++++++++++++==\n",
    "==+++++++++++++++     SMHRD    +++++++++++++++==\n",
    "==+++++++++++++++              +++++++++++++++==\n",
    "==++++++++++++++++++++++++++++++++++++++++++++==\n",
    "==++++++++++++++++++++++++++++++++++++++++++++==\n",
    "================================================\n",
    "================================================\n",
    "  ===                                      ===\n",
    "  ===                                      ===\n",
    "''')\n",
    "    elif select == 5:\n",
    "        break\n",
    "    else :\n",
    "        print(f'Now your coin is {coin} won, please insert more coin')\n",
    "\n",
    "        \n",
    "print(f'''잔돈 {coin} 원이 나왔습니다.\n",
    "잔돈>> 1000원 {원1000}개, 500원 {원500}개, 100원 {원100}개''')\n",
    "          "
   ]
  },
  {
   "cell_type": "markdown",
   "id": "1c10b62b",
   "metadata": {},
   "source": [
    "### 리스트\n",
    "-파이썬의 자료구조 형태 중 하나\n",
    "-순서가 이쓴ㄴ 수정이 가능한 객체의 집합\n",
    "-추가 수정 삭제가 가능\n",
    "-인덱싱 슬라이싱 가능"
   ]
  },
  {
   "cell_type": "code",
   "execution_count": 4,
   "id": "7bcdf680",
   "metadata": {},
   "outputs": [
    {
     "name": "stdout",
     "output_type": "stream",
     "text": [
      "[1, 2, ['my', 'name']]\n",
      "[0]\n",
      "[1, 2, 'my', 'name']\n",
      "[1, 2, ['my', 'name']]\n"
     ]
    },
    {
     "data": {
      "text/plain": [
       "(None, None, None, None)"
      ]
     },
     "execution_count": 4,
     "metadata": {},
     "output_type": "execute_result"
    }
   ],
   "source": [
    "a=[0]\n",
    "b=[1,2,3]\n",
    "c=['my','name']\n",
    "d = [1,2, 'my','name']\n",
    "e = [1,2,['my','name']]\n",
    "print(e),print(a),print(d),print(e)"
   ]
  },
  {
   "cell_type": "code",
   "execution_count": 23,
   "id": "d5bd0118",
   "metadata": {},
   "outputs": [
    {
     "name": "stdout",
     "output_type": "stream",
     "text": [
      "2\n",
      "9\n",
      "14\n",
      "5\n",
      "10\n"
     ]
    },
    {
     "data": {
      "text/plain": [
       "(None, None)"
      ]
     },
     "execution_count": 23,
     "metadata": {},
     "output_type": "execute_result"
    }
   ],
   "source": [
    "list1=[2,5,7,9,10]\n",
    "print (list1[0])\n",
    "print (list1[3])\n",
    "print(list1[1] + list1[3])\n",
    "print(list1[1]),print(list1[4])"
   ]
  },
  {
   "cell_type": "code",
   "execution_count": 15,
   "id": "d098e165",
   "metadata": {},
   "outputs": [],
   "source": [
    "list2 = [1,2,3, ['a','b','c']]\n"
   ]
  },
  {
   "cell_type": "code",
   "execution_count": 17,
   "id": "5182c605",
   "metadata": {},
   "outputs": [
    {
     "name": "stdout",
     "output_type": "stream",
     "text": [
      "['a', 'b', 'c']\n"
     ]
    }
   ],
   "source": [
    "temp = list2[3]\n",
    "print(temp)"
   ]
  },
  {
   "cell_type": "code",
   "execution_count": 18,
   "id": "b2a1fa0e",
   "metadata": {},
   "outputs": [
    {
     "name": "stdout",
     "output_type": "stream",
     "text": [
      "b\n"
     ]
    }
   ],
   "source": [
    "print(temp[1])"
   ]
  },
  {
   "cell_type": "code",
   "execution_count": 19,
   "id": "933c2ca8",
   "metadata": {},
   "outputs": [
    {
     "name": "stdout",
     "output_type": "stream",
     "text": [
      "b\n"
     ]
    }
   ],
   "source": [
    "print(list2[3][1])"
   ]
  },
  {
   "cell_type": "code",
   "execution_count": 26,
   "id": "ebb7816f",
   "metadata": {},
   "outputs": [
    {
     "name": "stdout",
     "output_type": "stream",
     "text": [
      "[1, 2]\n",
      "[0, 1]\n",
      "[0, 1]\n",
      "[3, 4]\n"
     ]
    },
    {
     "data": {
      "text/plain": [
       "(None, None, None)"
      ]
     },
     "execution_count": 26,
     "metadata": {},
     "output_type": "execute_result"
    }
   ],
   "source": [
    "list3=[0,1,2,3,4]\n",
    "print(list3[1:3])\n",
    "print(list3[0:2]), print(list3[:2]), print(list3[3:])"
   ]
  },
  {
   "cell_type": "markdown",
   "id": "a3e11c20",
   "metadata": {},
   "source": [
    "#### 리스트 끼리 더하기"
   ]
  },
  {
   "cell_type": "code",
   "execution_count": 27,
   "id": "8aed85e3",
   "metadata": {},
   "outputs": [
    {
     "data": {
      "text/plain": [
       "[1, 2, 3, 3, 4, 5, 6]"
      ]
     },
     "execution_count": 27,
     "metadata": {},
     "output_type": "execute_result"
    }
   ],
   "source": [
    "list4 = [1,2,3]\n",
    "list5 = [3,4,5,6]\n",
    "list4+list5 "
   ]
  },
  {
   "cell_type": "code",
   "execution_count": 29,
   "id": "6e31f5c6",
   "metadata": {},
   "outputs": [
    {
     "name": "stdout",
     "output_type": "stream",
     "text": [
      "[0, 1, 2, 3, 4, 5]\n"
     ]
    }
   ],
   "source": [
    "list6 = [0,1,2,3,4]\n",
    "list6.append(5) #맨 뒤에 값이 추가된다.\n",
    "print(list6)"
   ]
  },
  {
   "cell_type": "code",
   "execution_count": 35,
   "id": "3a04220b",
   "metadata": {},
   "outputs": [],
   "source": [
    "list = ['사과','포도',['수박','멜론'],'복숭아','딸기','오렌지']\n",
    "ap = list[0]\n",
    "wm=list[2][0]\n",
    "orange=list[-1]\n"
   ]
  },
  {
   "cell_type": "code",
   "execution_count": 36,
   "id": "6ae7705f",
   "metadata": {},
   "outputs": [
    {
     "name": "stdout",
     "output_type": "stream",
     "text": [
      "['사과', '수박', '오렌지']\n"
     ]
    }
   ],
   "source": [
    "choice_list=[]\n",
    "choice_list.append(ap), choice_list.append(wm), choice_list.append(orange)\n",
    "print(choice_list)"
   ]
  },
  {
   "cell_type": "code",
   "execution_count": 38,
   "id": "ae743dc1",
   "metadata": {},
   "outputs": [
    {
     "name": "stdout",
     "output_type": "stream",
     "text": [
      "[0, 5, 1, 2, 3, 4]\n"
     ]
    }
   ],
   "source": [
    "list7 = [0,1,2,3,4]\n",
    "list7.insert(1,5)\n",
    "print(list7)"
   ]
  },
  {
   "cell_type": "markdown",
   "id": "552f69d9",
   "metadata": {},
   "source": [
    "#### insert 실습"
   ]
  },
  {
   "cell_type": "code",
   "execution_count": 39,
   "id": "ba83e3fd",
   "metadata": {},
   "outputs": [
    {
     "name": "stdout",
     "output_type": "stream",
     "text": [
      "index 위치 입력>>1\n",
      "노래제목 입력>>고백\n",
      "가수 입력>>브로콜리너마저\n",
      "[['butter', '방탄'], ['고백', '브로콜리너마저'], ['헤픈 우연', '헤이즈'], ['라일락', '아이유']]\n"
     ]
    }
   ],
   "source": [
    "music_list=[['butter','방탄'],['헤픈 우연','헤이즈'],['라일락','아이유']]\n",
    "loc = int(input(\"index 위치 입력>>\"))\n",
    "song = input(\"노래제목 입력>>\")\n",
    "singer = input('가수 입력>>')\n",
    "music_list.insert(loc,[song,singer])\n",
    "print(music_list)"
   ]
  },
  {
   "cell_type": "code",
   "execution_count": null,
   "id": "29cb598e",
   "metadata": {},
   "outputs": [],
   "source": []
  },
  {
   "cell_type": "code",
   "execution_count": null,
   "id": "cd961c01",
   "metadata": {},
   "outputs": [],
   "source": []
  }
 ],
 "metadata": {
  "kernelspec": {
   "display_name": "Python 3 (ipykernel)",
   "language": "python",
   "name": "python3"
  },
  "language_info": {
   "codemirror_mode": {
    "name": "ipython",
    "version": 3
   },
   "file_extension": ".py",
   "mimetype": "text/x-python",
   "name": "python",
   "nbconvert_exporter": "python",
   "pygments_lexer": "ipython3",
   "version": "3.9.7"
  }
 },
 "nbformat": 4,
 "nbformat_minor": 5
}
