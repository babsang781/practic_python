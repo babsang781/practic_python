{
 "cells": [
  {
   "cell_type": "markdown",
   "id": "3c455a1f",
   "metadata": {},
   "source": [
    "# 유튜브 영상제목, 조회수 크롤링\n",
    "- 데이터를 확인하고 변수에 담아주는 습관, 추천"
   ]
  },
  {
   "cell_type": "code",
   "execution_count": 1,
   "id": "f38e7f01",
   "metadata": {},
   "outputs": [],
   "source": [
    "from selenium import webdriver as wb\n",
    "from selenium.webdriver.common.keys import Keys\n",
    "import time"
   ]
  },
  {
   "cell_type": "code",
   "execution_count": 75,
   "id": "fb02c31b",
   "metadata": {},
   "outputs": [],
   "source": [
    "# 헤드리스 \n",
    "options = wb.ChromeOptions()\n",
    "options.add_argument('headless')\n",
    "options.add_argument('window-size=1920x1080')\n",
    "options.add_argument(\"disable-gpu\")"
   ]
  },
  {
   "cell_type": "code",
   "execution_count": 76,
   "id": "f204d956",
   "metadata": {
    "collapsed": true
   },
   "outputs": [
    {
     "name": "stderr",
     "output_type": "stream",
     "text": [
      "C:\\Users\\smhrd\\AppData\\Local\\Temp/ipykernel_11772/4090493110.py:4: DeprecationWarning: executable_path has been deprecated, please pass in a Service object\n",
      "  driver = wb.Chrome('C:/Users/smhrd/2.크롤링(Crawling)/chromedriver.exe',options = options)\n",
      "C:\\Users\\smhrd\\AppData\\Local\\Temp/ipykernel_11772/4090493110.py:9: DeprecationWarning: find_element_by_* commands are deprecated. Please use find_element() instead\n",
      "  body=driver.find_element_by_css_selector('body')\n",
      "C:\\Users\\smhrd\\AppData\\Local\\Temp/ipykernel_11772/4090493110.py:15: DeprecationWarning: find_elements_by_* commands are deprecated. Please use find_elements() instead\n",
      "  title = driver.find_elements_by_id('video-title')\n",
      "C:\\Users\\smhrd\\AppData\\Local\\Temp/ipykernel_11772/4090493110.py:16: DeprecationWarning: find_elements_by_* commands are deprecated. Please use find_elements() instead\n",
      "  view = driver.find_elements_by_css_selector('div#metadata-line>span.style-scope.ytd-grid-video-renderer:nth-child(1)')\n"
     ]
    },
    {
     "name": "stdout",
     "output_type": "stream",
     "text": [
      "WEB1 - 18. 웹호스팅 : github page (2022년 수정본)\n",
      "Python Django Web Framework - 2/14. 설치\n",
      "Python Django Web Framework - 1/14. 수업소개\n",
      "Orange3 안에서 Python & Pandas 사용하기\n",
      "정부 데이터 API를 이용해서 가져오기\n",
      "Orange3 - Merge Data : 여러개의 표를 하나의 표로 합치기\n",
      "git flow - 출시와 개발을 동시에 진행하는 방법\n",
      "Python3 - 모듈과 패키지\n",
      "Python3 - 함수\n",
      "HTTP - 1. 수업소개 (수정본)\n",
      "Docker compose 를 이용해서 복잡한 도커 컨테이너를 제어하기\n",
      "코드와 오류를 공유해서 도움 받기 (ideone.com)\n",
      "github 로 Docker image 공유하기\n",
      "Docker hub로 이미지 공유하기 (push)\n",
      "도커 : 이미지 만드는 법 - Dockerfile & build\n",
      "도커 : 이미지 만드는 법 - commit\n",
      "Visual Studio Code 로 다루는 Git - 버전관리편 - 7. 코드리뷰와 작업취소\n",
      "Visual Studio Code 로 다루는 Git - 버전관리편 - 6. 시간여행\n",
      "Visual Studio Code 로 다루는 Git - 버전관리편 - 5. 버전보기\n",
      "Visual Studio Code 로 다루는 Git - 버전관리편 - 4. 버전만들기\n",
      "Visual Studio Code 로 다루는 Git - 버전관리편 - 3. 저장소만들기\n",
      "Visual Studio Code 로 다루는 Git - 버전관리편 - 2. 설치\n",
      "Visual Studio Code 로 다루는 Git - 버전관리편 - 1. 수업소개\n",
      "Visual Studio Code 기본 사용법\n",
      "비주얼 스튜디오 코드 - 스크린 캐스트 모드 : 강의나 협업 할 때 유용하겠어요\n",
      "생활코딩 Docker 입문수업 - 8. 수업을 마치며\n",
      "생활코딩 Docker 입문수업 - 7. 호스트와 컨테이너의 파일시스템 연결\n",
      "생활코딩 Docker 입문수업 - 6. 명령어 실행\n",
      "생활코딩 Docker 입문수업 - 5. 네트워크\n",
      "생활코딩 Docker 입문수업 - 4. 컨테이너 run\n",
      "생활코딩 Docker 입문수업 - 3. 이미지 pull\n",
      "생활코딩 Docker 입문수업 - 2. 설치\n",
      "생활코딩 Docker 입문수업 - 1. 수업소개\n",
      "Python 제어문 - 6. 수업을 마치며\n",
      "Python 제어문 - 5.3. 반복문 - Dictionary\n",
      "Python 제어문 - 5.1. 반복문 - for 기본형식\n",
      "Python 제어문 - 5.2. 반복문 - 다차원배열의 처리\n",
      "Python 제어문 - 4.4. 조건문 중첩\n",
      "Python 제어문 - 4.3. 조건문 elif\n",
      "Python 제어문 - 4.2. 조건문 - else\n",
      "Python 제어문 - 4.1. 조건문의 기본형식\n",
      "Python 제어문 - 3. 비교 연산자\n",
      "Python 제어문 - 2. Boolean\n",
      "Python : 제어문 - 1. 오리엔테이션\n",
      "생활코딩 Python 입문수업 - 10. 수업을 마치며\n",
      "생활코딩 Python 입문수업 - 9. pypi pip\n",
      "생활코딩 Python 입문수업 - 8. 입력과출력\n",
      "생활코딩 Python 입문수업 - 7. 디버깅\n",
      "생활코딩 Python 입문수업 - 6. 변수\n",
      "생활코딩 Python 입문수업 - 5. 메뉴얼과 검색\n",
      "생활코딩 Python 입문수업 - 4.3. 리스트 데이터 타입\n",
      "생활코딩 Python 입문수업 - 4.2. 문자열데이터타입\n",
      "생활코딩 Python 입문수업 - 4.1. 숫자형 데이터 타입\n",
      "생활코딩 Python 입문수업 - 4.0. 데이터타입\n",
      "생활코딩 Python 입문수업 - 3.2. 파이썬 파일로 실행\n",
      "생활코딩 Python 입문수업 - 3.1. 파이썬 쉘로 실행\n",
      "생활코딩 Python 입문수업 - 3.0. 실행\n",
      "생활코딩 Python 입문수업 - 2.3. ideone com\n",
      "생활코딩 Python 입문수업 - 2.2. 주피터 노트북\n",
      "생활코딩 Python 입문수업 - 2.1. 컴퓨터에 직접 설치하기\n",
      "생활코딩 Python 입문수업 - 2.0. 설치\n",
      "생활코딩 Python 입문수업 : 1. 오리엔테이션\n",
      "머신러닝 야학 3기를 모집합니다. (이벤트는 영상 설명을 참고해주세요!)\n",
      "생활코딩 머신러닝1이 책으로 나왔습니다\n",
      "AWS의 눈 - Cloud Watch\n",
      "필요한 만큼 컴퓨터를 자동으로 생성/제거 해주는 AWS Auto Scaling\n",
      "p5js로 배우는 아름다운 삼각함수\n",
      "모션그래픽을 위한 p5.js - 12. 수업을 마치며\n",
      "모션그래픽을 위한 p5.js - 11. 상호작용 심화\n",
      "모션그래픽을 위한 p5.js - 10. 상호작용 : 이벤트 프로그래밍\n",
      "모션그래픽을 위한 p5.js - 9. 상호작용 : 입력장치의 상태 데이터\n",
      "모션그래픽을 위한 p5.js - 8. 이동하는 애니메이션 만들기\n",
      "모션그래픽을 위한 p5.js - 7. 애니메이션 draw와 random\n",
      "모션그래픽을 위한 p5.js - 6. 그림 색상\n",
      "모션그래픽을 위한 p5.js - 5. 그림 채우기와 태두리\n",
      "모션그래픽을 위한 p5.js - 4. 그림 도형\n",
      "모션그래픽을 위한 p5.js - 1. 수업소개\n",
      "모션그래픽을 위한 p5.js - 2. 실행\n",
      "모션그래픽을 위한 p5.js - 3. 그림 위치\n",
      "AWS Launch Template 사용법\n",
      "머신러닝 야학 2기 졸업식\n",
      "TensorFlow.js Classification - 4. 분류스러운 학습\n",
      "TensorFlow.js Classification - 3. 학습\n",
      "TensorFlow.js Classification - 2. 데이터 준비\n",
      "TensorFlow.js Classification - 1. 수업소개\n",
      "JS로 만드는 AI : TensorFlow.js - 10.1. 여러개의 변수 : 보스톤 집값 예제 소개 (수정본)\n",
      "JS로 만드는 AI : TensorFlow.js - 11. tensorflowjs vis\n",
      "JS로 만드는 AI : TensorFlow.js - 12.2. 딥러닝 : 코딩하기\n",
      "JS로 만드는 AI : TensorFlow.js - 12.1. 딥러닝 : 소개\n",
      "JS로 만드는 AI : TensorFlow.js - 13. 수업을 마치며\n",
      "JS로 만드는 AI : TensorFlow.js - 10.4. 여러개의 변수 : 여러개의 종속변수\n",
      "JS로 만드는 AI : TensorFlow.js - 10.3. 여러개의 변수 : 코딩하기\n",
      "JS로 만드는 AI : TensorFlow.js - 10.2. 여러개의 변수 : 모델의 실체\n",
      "JS로 만드는 AI : TensorFlow.js - 8. 모델의 저장과 불러오기\n",
      "JS로 만드는 AI : TensorFlow.js - 9. 졸업식과 입학설명회\n",
      "JS로 만드는 AI : TensorFlow.js - 7. 모델의 정체\n",
      "JS로 만드는 AI : TensorFlow.js - 6. 정확도측정\n",
      "JS로 만드는 AI : TensorFlow.js - 5.6. 나의 모델 만들기 : 모델의 이용과 학습\n",
      "JS로 만드는 AI : TensorFlow.js - 5.5. 나의 모델 만들기 : 모델을 학습 시키기\n",
      "JS로 만드는 AI : TensorFlow.js - 5.4. 나의 모델 만들기 : 모델의 모양 만들기\n",
      "JS로 만드는 AI : TensorFlow.js - 5.1. 나의 모델 만들기 : 코드리뷰\n",
      "JS로 만드는 AI : TensorFlow.js - 5.3. 나의 모델 만들기 : 데이터 준비하기\n",
      "JS로 만드는 AI : TensorFlow.js - 5.2. 나의 모델 만들기 : 라이브러리 설치\n",
      "JS로 만드는 AI : TensorFlow.js - 4. 남의 모델을 이용하기\n",
      "JS로 만드는 AI : TensorFlow.js - 3. 수업의 순서\n",
      "JS로 만드는 AI : TensorFlow.js - 2. 지도학습의 작업순서\n",
      "머신러닝 야학 오리엔테이션 (전야제)\n",
      "JS로 만드는 AI : TensorFlow.js - 1. 수업소개\n",
      "AWS Elastic Beanstalk\n",
      "Pandas를 자바스크립트에서! Danfo.js\n",
      "머신러닝야학 2기 개강 이벤트 추첨 방송\n",
      "머신러닝 야학 2기 학우를 모집합니다.\n",
      "Nodejs로 만들어진 Web app을 리눅스에서 구동하는 방법\n",
      "저장소 안에 저장소 - git submodule\n",
      "Node.js 프로세스 관리자 - PM2\n",
      "암호학1 수업 완성 기념 감사 이벤트 추첨을 진행했습니다.\n",
      "Amazon API Gateway 와 AWS Lambda 를 연동해서 애플리케이션 서버 만들기\n",
      "암호학1 - 5. 수업을 마치며\n",
      "암호법1 - 4.2. 양방향 암호화 - 비대칭키(공개키) - 전자 서명하는 방법 (이벤트는 본문을 참고해주세요!)\n",
      "암호학1 - 4.1. 양방향 암호화 - 비대칭키(공개키 방식) - 기밀성을 위해서 사용하기\n",
      "조회수 2.4천회\n",
      "조회수 5.1천회\n",
      "조회수 8.4천회\n",
      "조회수 2.5천회\n",
      "조회수 6.2천회\n",
      "조회수 2.7천회\n",
      "조회수 8.3천회\n",
      "조회수 4.5천회\n",
      "조회수 4.3천회\n",
      "조회수 5.5천회\n",
      "조회수 3.2천회\n",
      "조회수 3.9천회\n",
      "조회수 5.1천회\n",
      "조회수 3.1천회\n",
      "조회수 7.2천회\n",
      "조회수 5.8천회\n",
      "조회수 4.1천회\n",
      "조회수 3.3천회\n",
      "조회수 3.1천회\n",
      "조회수 3.9천회\n",
      "조회수 4천회\n",
      "조회수 3.6천회\n",
      "조회수 8.4천회\n",
      "조회수 3.5만회\n",
      "조회수 7.5천회\n",
      "조회수 6.2천회\n",
      "조회수 6.5천회\n",
      "조회수 7.4천회\n",
      "조회수 8.6천회\n",
      "조회수 8.9천회\n",
      "조회수 1만회\n",
      "조회수 1.3만회\n",
      "조회수 2.4만회\n",
      "조회수 3천회\n",
      "조회수 2.6천회\n",
      "조회수 2.6천회\n",
      "조회수 2.3천회\n",
      "조회수 1.8천회\n",
      "조회수 1.8천회\n",
      "조회수 2천회\n",
      "조회수 2.5천회\n",
      "조회수 2.5천회\n",
      "조회수 2.8천회\n",
      "조회수 5.3천회\n",
      "조회수 7.2천회\n",
      "조회수 6.4천회\n",
      "조회수 5천회\n",
      "조회수 5.8천회\n",
      "조회수 5천회\n",
      "조회수 5.7천회\n",
      "조회수 6.3천회\n",
      "조회수 6.1천회\n",
      "조회수 7.3천회\n",
      "조회수 7.4천회\n",
      "조회수 8.6천회\n",
      "조회수 8.5천회\n",
      "조회수 8.5천회\n",
      "조회수 6.7천회\n",
      "조회수 8.2천회\n",
      "조회수 1.1만회\n",
      "조회수 1만회\n",
      "조회수 2.6만회\n",
      "조회수 1.9만회\n",
      "조회수 9.2천회\n",
      "조회수 1.1만회\n",
      "조회수 6.7천회\n",
      "조회수 9.9천회\n",
      "조회수 5.8천회\n",
      "조회수 4.8천회\n",
      "조회수 3.6천회\n",
      "조회수 3.4천회\n",
      "조회수 4.1천회\n",
      "조회수 3.6천회\n",
      "조회수 2.9천회\n",
      "조회수 3천회\n",
      "조회수 3.6천회\n",
      "조회수 1.4만회\n",
      "조회수 6.7천회\n",
      "조회수 5.8천회\n",
      "조회수 3.4천회\n",
      "조회수 8.1천회\n",
      "조회수 3천회\n",
      "조회수 2.3천회\n",
      "조회수 3.1천회\n",
      "조회수 6.9천회\n",
      "조회수 3.1천회\n",
      "조회수 3.5천회\n",
      "조회수 3.1천회\n",
      "조회수 2.9천회\n",
      "조회수 2.6천회\n",
      "조회수 3천회\n",
      "조회수 3.1천회\n",
      "조회수 2.5천회\n",
      "조회수 4.2천회\n",
      "조회수 2.8천회\n",
      "조회수 3.4천회\n",
      "조회수 3.9천회\n",
      "조회수 4천회\n",
      "조회수 3.2천회\n",
      "조회수 3.5천회\n",
      "조회수 5.8천회\n",
      "조회수 3.9천회\n",
      "조회수 4.9천회\n",
      "조회수 8천회\n",
      "조회수 5.8천회\n",
      "조회수 7.7천회\n",
      "조회수 1.3만회\n",
      "조회수 2.7만회\n",
      "조회수 4.2천회\n",
      "조회수 6.8천회\n",
      "조회수 8.3천회\n",
      "조회수 1.9만회\n",
      "조회수 3.8천회\n",
      "조회수 3.5천회\n",
      "조회수 3.7천회\n",
      "조회수 2.2천회\n",
      "조회수 6.7천회\n",
      "조회수 4.1천회\n",
      "조회수 5.6천회\n",
      "조회수 7천회\n"
     ]
    }
   ],
   "source": [
    "# 원래는 wb.Chrome() 괄호 안에 크롬드라이버를 넣어야 하는데, 같은 경로에 크롬드라이버를 두면 괜찮.\n",
    "# 헤드리스를 쓸 경우 크롬 드라이버의 경로를 명시해야함\n",
    "# \\ 못 읽음, 슬래쉬 (/) 로 바꿔줘야함.\n",
    "driver = wb.Chrome('C:/Users/smhrd/2.크롤링(Crawling)/chromedriver.exe',options = options)\n",
    "time.sleep(0.5)\n",
    "driver.get(\"https://www.youtube.com/c/%EC%83%9D%ED%99%9C%EC%BD%94%EB%94%A91/videos\")\n",
    "time.sleep(1)\n",
    "\n",
    "body=driver.find_element_by_css_selector('body')\n",
    "\n",
    "for i in range(3):\n",
    "    body.send_keys(Keys.END)\n",
    "    time.sleep(1)\n",
    "\n",
    "title = driver.find_elements_by_id('video-title')\n",
    "view = driver.find_elements_by_css_selector('div#metadata-line>span:nth-child(1)')\n",
    "\n",
    "for i in title:\n",
    "    print(i.text)\n",
    "for i in view:\n",
    "    print(i.text)"
   ]
  },
  {
   "cell_type": "code",
   "execution_count": 2,
   "id": "0d43af91",
   "metadata": {},
   "outputs": [],
   "source": [
    "# 원래는 wb.Chrome() 괄호 안에 크롬드라이버를 넣어야 하는데, 같은 경로에 크롬드라이버를 두면 괜찮.\n",
    "driver = wb.Chrome()\n",
    "driver.get(\"https://www.youtube.com/c/%EC%83%9D%ED%99%9C%EC%BD%94%EB%94%A91/videos\")"
   ]
  },
  {
   "cell_type": "code",
   "execution_count": 37,
   "id": "6a42e192",
   "metadata": {},
   "outputs": [
    {
     "name": "stderr",
     "output_type": "stream",
     "text": [
      "C:\\Users\\smhrd\\AppData\\Local\\Temp/ipykernel_11772/3294149617.py:2: DeprecationWarning: find_elements_by_* commands are deprecated. Please use find_elements() instead\n",
      "  title = driver.find_elements_by_id('video-title')\n"
     ]
    }
   ],
   "source": [
    "#\n",
    "title = driver.find_elements_by_id('video-title')"
   ]
  },
  {
   "cell_type": "code",
   "execution_count": 6,
   "id": "496a5d31",
   "metadata": {
    "collapsed": true
   },
   "outputs": [
    {
     "name": "stdout",
     "output_type": "stream",
     "text": [
      "WEB1 - 18. 웹호스팅 : github page (2022년 수정본)\n",
      "Python Django Web Framework - 2/14. 설치\n",
      "Python Django Web Framework - 1/14. 수업소개\n",
      "Orange3 안에서 Python & Pandas 사용하기\n",
      "정부 데이터 API를 이용해서 가져오기\n",
      "Orange3 - Merge Data : 여러개의 표를 하나의 표로 합치기\n",
      "git flow - 출시와 개발을 동시에 진행하는 방법\n",
      "Python3 - 모듈과 패키지\n",
      "Python3 - 함수\n",
      "HTTP - 1. 수업소개 (수정본)\n",
      "Docker compose 를 이용해서 복잡한 도커 컨테이너를 제어하기\n",
      "코드와 오류를 공유해서 도움 받기 (ideone.com)\n",
      "github 로 Docker image 공유하기\n",
      "Docker hub로 이미지 공유하기 (push)\n",
      "도커 : 이미지 만드는 법 - Dockerfile & build\n",
      "도커 : 이미지 만드는 법 - commit\n",
      "Visual Studio Code 로 다루는 Git - 버전관리편 - 7. 코드리뷰와 작업취소\n",
      "Visual Studio Code 로 다루는 Git - 버전관리편 - 6. 시간여행\n",
      "Visual Studio Code 로 다루는 Git - 버전관리편 - 5. 버전보기\n",
      "Visual Studio Code 로 다루는 Git - 버전관리편 - 4. 버전만들기\n",
      "Visual Studio Code 로 다루는 Git - 버전관리편 - 3. 저장소만들기\n",
      "Visual Studio Code 로 다루는 Git - 버전관리편 - 2. 설치\n",
      "Visual Studio Code 로 다루는 Git - 버전관리편 - 1. 수업소개\n",
      "Visual Studio Code 기본 사용법\n",
      "비주얼 스튜디오 코드 - 스크린 캐스트 모드 : 강의나 협업 할 때 유용하겠어요\n",
      "생활코딩 Docker 입문수업 - 8. 수업을 마치며\n",
      "생활코딩 Docker 입문수업 - 7. 호스트와 컨테이너의 파일시스템 연결\n",
      "생활코딩 Docker 입문수업 - 6. 명령어 실행\n",
      "생활코딩 Docker 입문수업 - 5. 네트워크\n",
      "생활코딩 Docker 입문수업 - 4. 컨테이너 run\n"
     ]
    }
   ],
   "source": [
    "for i in title:\n",
    "    print(i.text)"
   ]
  },
  {
   "cell_type": "code",
   "execution_count": 29,
   "id": "588a7fb6",
   "metadata": {},
   "outputs": [
    {
     "name": "stderr",
     "output_type": "stream",
     "text": [
      "C:\\Users\\smhrd\\AppData\\Local\\Temp/ipykernel_11772/468965114.py:2: DeprecationWarning: find_elements_by_* commands are deprecated. Please use find_elements() instead\n",
      "  view = driver.find_elements_by_css_selector('span.style-scope.ytd-grid-video-renderer')\n"
     ]
    }
   ],
   "source": [
    "\n",
    "view = driver.find_elements_by_css_selector('span.style-scope.ytd-grid-video-renderer')"
   ]
  },
  {
   "cell_type": "code",
   "execution_count": 30,
   "id": "44a6753a",
   "metadata": {
    "collapsed": true
   },
   "outputs": [
    {
     "name": "stdout",
     "output_type": "stream",
     "text": [
      "조회수 2.4천회\n",
      "1일 전\n",
      "조회수 5.1천회\n",
      "10일 전\n",
      "조회수 8.4천회\n",
      "13일 전\n",
      "조회수 2.5천회\n",
      "3주 전\n",
      "조회수 6.2천회\n",
      "3주 전\n",
      "조회수 2.7천회\n",
      "1개월 전\n",
      "조회수 8.3천회\n",
      "2개월 전\n",
      "조회수 4.5천회\n",
      "2개월 전\n",
      "조회수 4.3천회\n",
      "2개월 전\n",
      "조회수 5.5천회\n",
      "2개월 전\n",
      "조회수 3.2천회\n",
      "2개월 전\n",
      "조회수 3.9천회\n",
      "2개월 전\n",
      "조회수 5.1천회\n",
      "3개월 전\n",
      "조회수 3.1천회\n",
      "3개월 전\n",
      "조회수 7.2천회\n",
      "3개월 전\n",
      "조회수 5.8천회\n",
      "4개월 전\n",
      "조회수 4.1천회\n",
      "4개월 전\n",
      "조회수 3.3천회\n",
      "4개월 전\n",
      "조회수 3.1천회\n",
      "4개월 전\n",
      "조회수 3.9천회\n",
      "4개월 전\n",
      "조회수 4천회\n",
      "4개월 전\n",
      "조회수 3.6천회\n",
      "4개월 전\n",
      "조회수 8.4천회\n",
      "4개월 전\n",
      "조회수 3.5만회\n",
      "4개월 전\n",
      "조회수 7.5천회\n",
      "4개월 전\n",
      "조회수 6.2천회\n",
      "4개월 전\n",
      "조회수 6.5천회\n",
      "4개월 전\n",
      "조회수 7.4천회\n",
      "4개월 전\n",
      "조회수 8.6천회\n",
      "4개월 전\n",
      "조회수 8.9천회\n",
      "4개월 전\n"
     ]
    }
   ],
   "source": [
    "for i in view:\n",
    "    print(i.text)"
   ]
  },
  {
   "cell_type": "code",
   "execution_count": 34,
   "id": "568804ff",
   "metadata": {},
   "outputs": [
    {
     "name": "stderr",
     "output_type": "stream",
     "text": [
      "C:\\Users\\smhrd\\AppData\\Local\\Temp/ipykernel_11772/3731523337.py:2: DeprecationWarning: find_elements_by_* commands are deprecated. Please use find_elements() instead\n",
      "  view = driver.find_elements_by_css_selector('div#metadata-line>span.style-scope.ytd-grid-video-renderer:nth-child(1)')\n"
     ]
    }
   ],
   "source": [
    "# 가산클래스 선택자 써야함\n",
    "view = driver.find_elements_by_css_selector('div#metadata-line>span.style-scope.ytd-grid-video-renderer:nth-child(1)')"
   ]
  },
  {
   "cell_type": "code",
   "execution_count": null,
   "id": "005f0dd1",
   "metadata": {},
   "outputs": [],
   "source": [
    "#selector 로 가져오기 : 이거는 딱 그 하나만 가져오기 때문에 확인 수정이 필요함\n",
    "#metadata-line > span:nth-child(1)"
   ]
  },
  {
   "cell_type": "code",
   "execution_count": 32,
   "id": "b1552357",
   "metadata": {
    "collapsed": true
   },
   "outputs": [
    {
     "name": "stdout",
     "output_type": "stream",
     "text": [
      "조회수 2.4천회\n",
      "조회수 5.1천회\n",
      "조회수 8.4천회\n",
      "조회수 2.5천회\n",
      "조회수 6.2천회\n",
      "조회수 2.7천회\n",
      "조회수 8.3천회\n",
      "조회수 4.5천회\n",
      "조회수 4.3천회\n",
      "조회수 5.5천회\n",
      "조회수 3.2천회\n",
      "조회수 3.9천회\n",
      "조회수 5.1천회\n",
      "조회수 3.1천회\n",
      "조회수 7.2천회\n",
      "조회수 5.8천회\n",
      "조회수 4.1천회\n",
      "조회수 3.3천회\n",
      "조회수 3.1천회\n",
      "조회수 3.9천회\n",
      "조회수 4천회\n",
      "조회수 3.6천회\n",
      "조회수 8.4천회\n",
      "조회수 3.5만회\n",
      "조회수 7.5천회\n",
      "조회수 6.2천회\n",
      "조회수 6.5천회\n",
      "조회수 7.4천회\n",
      "조회수 8.6천회\n",
      "조회수 8.9천회\n"
     ]
    }
   ],
   "source": [
    "for i in view:\n",
    "    print(i.text)"
   ]
  },
  {
   "cell_type": "code",
   "execution_count": 25,
   "id": "3923b630",
   "metadata": {},
   "outputs": [
    {
     "name": "stderr",
     "output_type": "stream",
     "text": [
      "C:\\Users\\smhrd\\AppData\\Local\\Temp/ipykernel_11772/2142002197.py:1: DeprecationWarning: find_elements_by_* commands are deprecated. Please use find_elements() instead\n",
      "  saw1 = driver.find_elements_by_css_selector('div#metadata-line>span.style-scope.ytd-grid-video-renderer:first-child')\n"
     ]
    }
   ],
   "source": [
    "saw1 = driver.find_elements_by_css_selector('div#metadata-line>span.style-scope.ytd-grid-video-renderer:first-child')"
   ]
  },
  {
   "cell_type": "code",
   "execution_count": 26,
   "id": "4ffcd8b0",
   "metadata": {
    "collapsed": true
   },
   "outputs": [
    {
     "name": "stdout",
     "output_type": "stream",
     "text": [
      "조회수 2.4천회\n",
      "조회수 5.1천회\n",
      "조회수 8.4천회\n",
      "조회수 2.5천회\n",
      "조회수 6.2천회\n",
      "조회수 2.7천회\n",
      "조회수 8.3천회\n",
      "조회수 4.5천회\n",
      "조회수 4.3천회\n",
      "조회수 5.5천회\n",
      "조회수 3.2천회\n",
      "조회수 3.9천회\n",
      "조회수 5.1천회\n",
      "조회수 3.1천회\n",
      "조회수 7.2천회\n",
      "조회수 5.8천회\n",
      "조회수 4.1천회\n",
      "조회수 3.3천회\n",
      "조회수 3.1천회\n",
      "조회수 3.9천회\n",
      "조회수 4천회\n",
      "조회수 3.6천회\n",
      "조회수 8.4천회\n",
      "조회수 3.5만회\n",
      "조회수 7.5천회\n",
      "조회수 6.2천회\n",
      "조회수 6.5천회\n",
      "조회수 7.4천회\n",
      "조회수 8.6천회\n",
      "조회수 8.9천회\n"
     ]
    }
   ],
   "source": [
    "for i in saw1:\n",
    "    print(i.text)"
   ]
  },
  {
   "cell_type": "code",
   "execution_count": 38,
   "id": "53996d5b",
   "metadata": {},
   "outputs": [
    {
     "data": {
      "text/plain": [
       "110"
      ]
     },
     "execution_count": 38,
     "metadata": {},
     "output_type": "execute_result"
    }
   ],
   "source": [
    "len(title)"
   ]
  },
  {
   "cell_type": "code",
   "execution_count": 36,
   "id": "15cedc3b",
   "metadata": {},
   "outputs": [
    {
     "data": {
      "text/plain": [
       "30"
      ]
     },
     "execution_count": 36,
     "metadata": {},
     "output_type": "execute_result"
    }
   ],
   "source": [
    "len(view)"
   ]
  },
  {
   "cell_type": "code",
   "execution_count": 41,
   "id": "235912bc",
   "metadata": {},
   "outputs": [
    {
     "name": "stderr",
     "output_type": "stream",
     "text": [
      "C:\\Users\\smhrd\\AppData\\Local\\Temp/ipykernel_11772/3418899314.py:2: DeprecationWarning: find_element_by_* commands are deprecated. Please use find_element() instead\n",
      "  body=driver.find_element_by_css_selector('body')\n"
     ]
    }
   ],
   "source": [
    "# 유튜브는 스크롤을 통해서 페이지 안에 데이터를 업로드시켜줌\n",
    "# body tag 화면의 몸통, 여기에 end 키를 입력해야하.ㅁ\n",
    "body=driver.find_element_by_css_selector('body')"
   ]
  },
  {
   "cell_type": "code",
   "execution_count": 44,
   "id": "44334407",
   "metadata": {},
   "outputs": [],
   "source": [
    "body.send_keys(Keys.END)"
   ]
  },
  {
   "cell_type": "markdown",
   "id": "2fbf0fcd",
   "metadata": {},
   "source": [
    "# Gmarket 베스트 수집"
   ]
  },
  {
   "cell_type": "code",
   "execution_count": 46,
   "id": "1c3c4f98",
   "metadata": {},
   "outputs": [],
   "source": [
    "driver = wb.Chrome()\n",
    "driver.get('http://corners.gmarket.co.kr/Bestsellers')"
   ]
  },
  {
   "cell_type": "code",
   "execution_count": 62,
   "id": "92615712",
   "metadata": {},
   "outputs": [],
   "source": [
    "import pandas as pd\n",
    "from tqdm import tqdm_notebook"
   ]
  },
  {
   "cell_type": "code",
   "execution_count": 69,
   "id": "cf535352",
   "metadata": {
    "scrolled": true
   },
   "outputs": [
    {
     "name": "stderr",
     "output_type": "stream",
     "text": [
      "C:\\Users\\smhrd\\AppData\\Local\\Temp/ipykernel_11772/3944511785.py:10: TqdmDeprecationWarning: This function will be removed in tqdm==5.0.0\n",
      "Please use `tqdm.notebook.tqdm` instead of `tqdm.tqdm_notebook`\n",
      "  for i in tqdm_notebook(range(10)):\n"
     ]
    },
    {
     "data": {
      "application/vnd.jupyter.widget-view+json": {
       "model_id": "6d0bba1a1c6b4c4ea24d4fe7194b0e29",
       "version_major": 2,
       "version_minor": 0
      },
      "text/plain": [
       "  0%|          | 0/10 [00:00<?, ?it/s]"
      ]
     },
     "metadata": {},
     "output_type": "display_data"
    },
    {
     "name": "stderr",
     "output_type": "stream",
     "text": [
      "C:\\Users\\smhrd\\AppData\\Local\\Temp/ipykernel_11772/3944511785.py:11: DeprecationWarning: find_elements_by_* commands are deprecated. Please use find_elements() instead\n",
      "  img = driver.find_elements_by_css_selector('img.lazy')\n",
      "C:\\Users\\smhrd\\AppData\\Local\\Temp/ipykernel_11772/3944511785.py:15: DeprecationWarning: find_element_by_* commands are deprecated. Please use find_element() instead\n",
      "  item = driver.find_element_by_css_selector('h1.itemtit')\n",
      "C:\\Users\\smhrd\\AppData\\Local\\Temp/ipykernel_11772/3944511785.py:16: DeprecationWarning: find_element_by_* commands are deprecated. Please use find_element() instead\n",
      "  price = driver.find_element_by_css_selector('strong.price_real')\n"
     ]
    }
   ],
   "source": [
    "driver = wb.Chrome()\n",
    "time.sleep(0.5)\n",
    "\n",
    "driver.get('http://corners.gmarket.co.kr/Bestsellers')\n",
    "time.sleep(0.5)\n",
    "\n",
    "item_list=[]\n",
    "price_list=[]\n",
    "list_num=[]\n",
    "for i in tqdm_notebook(range(10)):\n",
    "    img = driver.find_elements_by_css_selector('img.lazy')\n",
    "    img[i].click()\n",
    "    time.sleep(1)\n",
    "    \n",
    "    item = driver.find_element_by_css_selector('h1.itemtit')\n",
    "    price = driver.find_element_by_css_selector('strong.price_real')\n",
    "    \n",
    "    item_list.append(item.text)\n",
    "    price_list.append(price.text)\n",
    "    list_num.append(i+1)\n",
    "    driver.back()\n",
    "    time.sleep(1)\n",
    "\n",
    "    \n",
    "data = {'제품명':item_list, '가격':price_list, '순번':list_num}\n",
    "df = pd.DataFrame(data)\n",
    "df.set_index('순번', inplace = True)\n",
    "\n",
    "df.to_csv('gmarket.csv', encoding='euc-kr')\n"
   ]
  },
  {
   "cell_type": "code",
   "execution_count": 71,
   "id": "7cdef76a",
   "metadata": {},
   "outputs": [
    {
     "name": "stdout",
     "output_type": "stream",
     "text": [
      "                                        제품명       가격\n",
      "순번                                                  \n",
      "1        (21년산/삼광/특) 아산맑은쌀 삼광 10KG 쿠폰32850원  37,130원\n",
      "2         탐라 제주 흙감자 감자 5kg(중) / 22년 첫수확 햇감자  11,000원\n",
      "3   세제 1.5(리)4개+800(세or유)2팩+세제50ml+샤세2종Q222  15,400원\n",
      "4                  해피바스 로즈 에센스바디워시 900G x4개  16,900원\n",
      "5         한라봉 2kg 중과엄선 8-10과(2개구매시 4.5kg발송)  15,900원\n",
      "6                지리산흑돼지 찹쌀 탕수육 눈꽃까망 1kg+1kg  14,500원\n",
      "7      시매쓰 빨라지고 강해지는 이것이 연산이다 A~F단계 세트 선택구매  26,120원\n",
      "8                   BYO 식물성유산균 100억 30포 x3개  22,320원\n",
      "9                               진라면 매운맛 40봉  20,900원\n",
      "10       손질 없이 간편한 해물모듬 600gx4봉 /18810원 쿠폰가  20,900원\n",
      "<pandas.io.formats.style.Styler object at 0x00000202E50D3400>\n"
     ]
    }
   ],
   "source": [
    "df2 =df.style.set_properties(**{'text-align':'left'})\n",
    "print(df)\n",
    "print(df2)"
   ]
  },
  {
   "cell_type": "code",
   "execution_count": 74,
   "id": "6bd71a9d",
   "metadata": {},
   "outputs": [
    {
     "ename": "AttributeError",
     "evalue": "'Styler' object has no attribute 'to_csv'",
     "output_type": "error",
     "traceback": [
      "\u001b[1;31m---------------------------------------------------------------------------\u001b[0m",
      "\u001b[1;31mAttributeError\u001b[0m                            Traceback (most recent call last)",
      "\u001b[1;32m~\\AppData\\Local\\Temp/ipykernel_11772/3903983178.py\u001b[0m in \u001b[0;36m<module>\u001b[1;34m\u001b[0m\n\u001b[1;32m----> 1\u001b[1;33m \u001b[0mdf2\u001b[0m\u001b[1;33m.\u001b[0m\u001b[0mto_csv\u001b[0m\u001b[1;33m(\u001b[0m\u001b[1;34m\"gmarket.csv\"\u001b[0m\u001b[1;33m,\u001b[0m \u001b[0mencoding\u001b[0m\u001b[1;33m=\u001b[0m\u001b[1;34m\"euc-kr\"\u001b[0m\u001b[1;33m)\u001b[0m\u001b[1;33m\u001b[0m\u001b[1;33m\u001b[0m\u001b[0m\n\u001b[0m",
      "\u001b[1;31mAttributeError\u001b[0m: 'Styler' object has no attribute 'to_csv'"
     ]
    }
   ],
   "source": [
    "df2 =df.style.set_properties(**{'text-align':'left'})\n",
    "df2.to_csv(\"gmarket.csv\", encoding=\"euc-kr\")"
   ]
  },
  {
   "cell_type": "code",
   "execution_count": 47,
   "id": "5855765a",
   "metadata": {},
   "outputs": [
    {
     "name": "stderr",
     "output_type": "stream",
     "text": [
      "C:\\Users\\smhrd\\AppData\\Local\\Temp/ipykernel_11772/1133292985.py:1: DeprecationWarning: find_elements_by_* commands are deprecated. Please use find_elements() instead\n",
      "  img = driver.find_elements_by_css_selector('img.lazy')\n"
     ]
    }
   ],
   "source": [
    "img = driver.find_elements_by_css_selector('img.lazy')"
   ]
  },
  {
   "cell_type": "code",
   "execution_count": null,
   "id": "08e2762b",
   "metadata": {},
   "outputs": [],
   "source": [
    "img[1].click()\n",
    "time.sleep(2)"
   ]
  },
  {
   "cell_type": "code",
   "execution_count": 57,
   "id": "5c216223",
   "metadata": {
    "scrolled": true
   },
   "outputs": [
    {
     "name": "stderr",
     "output_type": "stream",
     "text": [
      "C:\\Users\\smhrd\\AppData\\Local\\Temp/ipykernel_11772/1446649530.py:1: DeprecationWarning: find_element_by_* commands are deprecated. Please use find_element() instead\n",
      "  item = driver.find_element_by_css_selector('h1.itemtit')\n",
      "C:\\Users\\smhrd\\AppData\\Local\\Temp/ipykernel_11772/1446649530.py:2: DeprecationWarning: find_element_by_* commands are deprecated. Please use find_element() instead\n",
      "  price = driver.find_element_by_css_selector('strong.price_real')\n"
     ]
    }
   ],
   "source": [
    "item = driver.find_element_by_css_selector('h1.itemtit')\n",
    "price = driver.find_element_by_css_selector('strong.price_real')"
   ]
  },
  {
   "cell_type": "code",
   "execution_count": 58,
   "id": "133c0b89",
   "metadata": {},
   "outputs": [
    {
     "name": "stdout",
     "output_type": "stream",
     "text": [
      "(21년산/삼광/특) 아산맑은쌀 삼광 10KG 쿠폰32850원\n",
      "37,130원\n"
     ]
    }
   ],
   "source": [
    "print(item.text)\n",
    "print(price.text)"
   ]
  },
  {
   "cell_type": "code",
   "execution_count": 59,
   "id": "41c501dd",
   "metadata": {},
   "outputs": [],
   "source": [
    "driver.back()\n",
    "# 뒤로가기를 하고 나면 "
   ]
  },
  {
   "cell_type": "code",
   "execution_count": null,
   "id": "8cd929a6",
   "metadata": {},
   "outputs": [],
   "source": []
  },
  {
   "cell_type": "code",
   "execution_count": null,
   "id": "eefb0779",
   "metadata": {},
   "outputs": [],
   "source": []
  },
  {
   "cell_type": "code",
   "execution_count": null,
   "id": "68a4dd3c",
   "metadata": {},
   "outputs": [],
   "source": []
  },
  {
   "cell_type": "code",
   "execution_count": null,
   "id": "e32b9574",
   "metadata": {},
   "outputs": [],
   "source": []
  },
  {
   "cell_type": "code",
   "execution_count": null,
   "id": "ae409cd7",
   "metadata": {},
   "outputs": [],
   "source": []
  },
  {
   "cell_type": "code",
   "execution_count": null,
   "id": "88ed189e",
   "metadata": {},
   "outputs": [],
   "source": []
  },
  {
   "cell_type": "code",
   "execution_count": null,
   "id": "af636d97",
   "metadata": {},
   "outputs": [],
   "source": []
  },
  {
   "cell_type": "code",
   "execution_count": null,
   "id": "66d8bdcc",
   "metadata": {},
   "outputs": [],
   "source": []
  },
  {
   "cell_type": "code",
   "execution_count": null,
   "id": "451ccf29",
   "metadata": {},
   "outputs": [],
   "source": []
  },
  {
   "cell_type": "code",
   "execution_count": null,
   "id": "33d9656d",
   "metadata": {},
   "outputs": [],
   "source": []
  },
  {
   "cell_type": "code",
   "execution_count": null,
   "id": "0032f971",
   "metadata": {},
   "outputs": [],
   "source": []
  },
  {
   "cell_type": "code",
   "execution_count": null,
   "id": "d072df69",
   "metadata": {},
   "outputs": [],
   "source": []
  },
  {
   "cell_type": "code",
   "execution_count": null,
   "id": "888851b3",
   "metadata": {},
   "outputs": [],
   "source": []
  },
  {
   "cell_type": "code",
   "execution_count": null,
   "id": "2a4b4fb6",
   "metadata": {},
   "outputs": [],
   "source": []
  },
  {
   "cell_type": "code",
   "execution_count": null,
   "id": "0c96aea5",
   "metadata": {},
   "outputs": [],
   "source": []
  },
  {
   "cell_type": "code",
   "execution_count": null,
   "id": "25fe3bff",
   "metadata": {},
   "outputs": [],
   "source": []
  },
  {
   "cell_type": "code",
   "execution_count": null,
   "id": "b7d7e87d",
   "metadata": {},
   "outputs": [],
   "source": []
  },
  {
   "cell_type": "code",
   "execution_count": null,
   "id": "e66ea0f2",
   "metadata": {},
   "outputs": [],
   "source": []
  },
  {
   "cell_type": "code",
   "execution_count": null,
   "id": "28236343",
   "metadata": {},
   "outputs": [],
   "source": []
  },
  {
   "cell_type": "code",
   "execution_count": null,
   "id": "566f303e",
   "metadata": {},
   "outputs": [],
   "source": []
  },
  {
   "cell_type": "code",
   "execution_count": null,
   "id": "75f98890",
   "metadata": {},
   "outputs": [],
   "source": []
  },
  {
   "cell_type": "code",
   "execution_count": null,
   "id": "6d032279",
   "metadata": {},
   "outputs": [],
   "source": []
  },
  {
   "cell_type": "code",
   "execution_count": null,
   "id": "72663a30",
   "metadata": {},
   "outputs": [],
   "source": []
  },
  {
   "cell_type": "code",
   "execution_count": null,
   "id": "f906c7f8",
   "metadata": {},
   "outputs": [],
   "source": []
  },
  {
   "cell_type": "code",
   "execution_count": null,
   "id": "a8043afa",
   "metadata": {},
   "outputs": [],
   "source": []
  },
  {
   "cell_type": "code",
   "execution_count": null,
   "id": "945d8d45",
   "metadata": {},
   "outputs": [],
   "source": []
  },
  {
   "cell_type": "code",
   "execution_count": null,
   "id": "faae3978",
   "metadata": {},
   "outputs": [],
   "source": []
  },
  {
   "cell_type": "code",
   "execution_count": null,
   "id": "a8407a69",
   "metadata": {},
   "outputs": [],
   "source": []
  },
  {
   "cell_type": "code",
   "execution_count": null,
   "id": "ccb99032",
   "metadata": {},
   "outputs": [],
   "source": []
  },
  {
   "cell_type": "code",
   "execution_count": null,
   "id": "92bce06e",
   "metadata": {},
   "outputs": [],
   "source": []
  },
  {
   "cell_type": "code",
   "execution_count": null,
   "id": "6c84528a",
   "metadata": {},
   "outputs": [],
   "source": []
  },
  {
   "cell_type": "code",
   "execution_count": null,
   "id": "f232596a",
   "metadata": {},
   "outputs": [],
   "source": []
  },
  {
   "cell_type": "code",
   "execution_count": null,
   "id": "eaf15c63",
   "metadata": {},
   "outputs": [],
   "source": []
  },
  {
   "cell_type": "code",
   "execution_count": null,
   "id": "05204ad1",
   "metadata": {},
   "outputs": [],
   "source": []
  },
  {
   "cell_type": "code",
   "execution_count": null,
   "id": "cb0c8528",
   "metadata": {},
   "outputs": [],
   "source": []
  },
  {
   "cell_type": "code",
   "execution_count": null,
   "id": "4568ae37",
   "metadata": {},
   "outputs": [],
   "source": []
  },
  {
   "cell_type": "code",
   "execution_count": null,
   "id": "6242fc5f",
   "metadata": {},
   "outputs": [],
   "source": []
  },
  {
   "cell_type": "code",
   "execution_count": null,
   "id": "a555c839",
   "metadata": {},
   "outputs": [],
   "source": []
  },
  {
   "cell_type": "code",
   "execution_count": null,
   "id": "db9c4ac7",
   "metadata": {},
   "outputs": [],
   "source": []
  },
  {
   "cell_type": "code",
   "execution_count": null,
   "id": "92aca696",
   "metadata": {},
   "outputs": [],
   "source": []
  },
  {
   "cell_type": "code",
   "execution_count": null,
   "id": "ef4b703d",
   "metadata": {},
   "outputs": [],
   "source": []
  },
  {
   "cell_type": "code",
   "execution_count": null,
   "id": "575263ab",
   "metadata": {},
   "outputs": [],
   "source": []
  },
  {
   "cell_type": "code",
   "execution_count": null,
   "id": "15eb6ba6",
   "metadata": {},
   "outputs": [],
   "source": []
  },
  {
   "cell_type": "code",
   "execution_count": null,
   "id": "4515c957",
   "metadata": {},
   "outputs": [],
   "source": []
  },
  {
   "cell_type": "code",
   "execution_count": null,
   "id": "8531f081",
   "metadata": {},
   "outputs": [],
   "source": []
  },
  {
   "cell_type": "code",
   "execution_count": null,
   "id": "e4e02a4f",
   "metadata": {},
   "outputs": [],
   "source": []
  }
 ],
 "metadata": {
  "kernelspec": {
   "display_name": "Python 3 (ipykernel)",
   "language": "python",
   "name": "python3"
  },
  "language_info": {
   "codemirror_mode": {
    "name": "ipython",
    "version": 3
   },
   "file_extension": ".py",
   "mimetype": "text/x-python",
   "name": "python",
   "nbconvert_exporter": "python",
   "pygments_lexer": "ipython3",
   "version": "3.9.7"
  }
 },
 "nbformat": 4,
 "nbformat_minor": 5
}
