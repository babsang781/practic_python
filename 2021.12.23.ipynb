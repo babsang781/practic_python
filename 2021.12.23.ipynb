{
 "cells": [
  {
   "cell_type": "code",
   "execution_count": 5,
   "id": "3396d709",
   "metadata": {},
   "outputs": [
    {
     "name": "stdout",
     "output_type": "stream",
     "text": [
      "[('h', 'i', 'j'), ['a', 'b', 'c'], 3, 'd', 'e', 'f', 'g']\n"
     ]
    }
   ],
   "source": [
    "array = [1,2,3,4,5]\n",
    "array[4] = [7]\n",
    "array[1] = ['a','b','c']\n",
    "array[3:]='d','e','f','g'\n",
    "array[0] = 'h','i','j'\n",
    "\n",
    "print(array)"
   ]
  },
  {
   "cell_type": "code",
   "execution_count": 6,
   "id": "6fa94965",
   "metadata": {},
   "outputs": [
    {
     "name": "stdout",
     "output_type": "stream",
     "text": [
      "['h', 'i', 'j', ['a', 'b', 'c'], 3, 'd', 'e', 'f', 'g']\n"
     ]
    }
   ],
   "source": [
    "array = [1,2,3,4,5]\n",
    "array[4] = [7]\n",
    "array[1] = ['a','b','c']\n",
    "array[3:]='d','e','f','g'\n",
    "array[:1] = 'h','i','j'\n",
    "\n",
    "print(array)"
   ]
  },
  {
   "cell_type": "code",
   "execution_count": 13,
   "id": "1dd7497c",
   "metadata": {},
   "outputs": [
    {
     "name": "stdout",
     "output_type": "stream",
     "text": [
      "[['h', 'i', 'j'], ['a', 'b', 'c'], 3, 'd', 'e', 'f', 'g']\n"
     ]
    }
   ],
   "source": [
    "array = [1,2,3,4,5]\n",
    "array[4] = [7]\n",
    "array[1] = ['a','b','c']\n",
    "array[3:]=['d','e','f','g']\n",
    "array[:1] = [['h','i','j']]\n",
    "\n",
    "print(array)"
   ]
  },
  {
   "cell_type": "code",
   "execution_count": 14,
   "id": "f5489581",
   "metadata": {},
   "outputs": [
    {
     "name": "stdout",
     "output_type": "stream",
     "text": [
      "[0, 2, 3, 4, 5]\n"
     ]
    }
   ],
   "source": [
    "list1= [0,1,2,3,4,5]\n",
    "#del 키워드\n",
    "del list1[1]\n",
    "print(list1)"
   ]
  },
  {
   "cell_type": "code",
   "execution_count": 15,
   "id": "5d764fe2",
   "metadata": {},
   "outputs": [
    {
     "data": {
      "text/plain": [
       "[0, 5]"
      ]
     },
     "execution_count": 15,
     "metadata": {},
     "output_type": "execute_result"
    }
   ],
   "source": [
    "del list1[1:4]\n",
    "list1"
   ]
  },
  {
   "cell_type": "code",
   "execution_count": 17,
   "id": "e16b161c",
   "metadata": {},
   "outputs": [
    {
     "name": "stdout",
     "output_type": "stream",
     "text": [
      "['a', 'b', 'c', 'd', 'e']\n"
     ]
    }
   ],
   "source": [
    "#remove() 이용해서 값 삭제\n",
    "list1 = ['a','b','b','c','d','e']\n",
    "list1.remove('b')\n",
    "print(list1)"
   ]
  },
  {
   "cell_type": "code",
   "execution_count": 30,
   "id": "8bb8a94f",
   "metadata": {},
   "outputs": [
    {
     "name": "stdout",
     "output_type": "stream",
     "text": [
      "None\n"
     ]
    }
   ],
   "source": [
    "#sort()\n",
    "list2 = [9,55,2333,22,54,55]\n",
    "list2.sort()\n",
    "list2\n",
    "print(list2.sort())"
   ]
  },
  {
   "cell_type": "code",
   "execution_count": 31,
   "id": "8aa360fd",
   "metadata": {},
   "outputs": [
    {
     "data": {
      "text/plain": [
       "[9, 22, 54, 55, 55, 2333]"
      ]
     },
     "execution_count": 31,
     "metadata": {},
     "output_type": "execute_result"
    }
   ],
   "source": [
    "#sort()\n",
    "list2 = [9,55,2333,22,54,55]\n",
    "list2.sort()\n",
    "list2"
   ]
  },
  {
   "cell_type": "code",
   "execution_count": 32,
   "id": "aa5c6444",
   "metadata": {},
   "outputs": [
    {
     "name": "stdout",
     "output_type": "stream",
     "text": [
      "[2333, 55, 55, 54, 22, 9]\n"
     ]
    }
   ],
   "source": [
    "list2.reverse()\n",
    "print(list2)"
   ]
  },
  {
   "cell_type": "code",
   "execution_count": 89,
   "id": "e5600c6b",
   "metadata": {},
   "outputs": [
    {
     "name": "stdout",
     "output_type": "stream",
     "text": [
      "[2333, 55, 55, 54, 22, 9]\n",
      "[9, 22, 54, 55, 55, 2333]\n",
      "[2333, 55, 55, 54, 22, 9]\n"
     ]
    }
   ],
   "source": [
    "list2.sort(reverse=True)\n",
    "print(list2)\n",
    "list2.sort(reverse= False)\n",
    "print(list2)\n",
    "list2.reverse()\n",
    "print(list2)"
   ]
  },
  {
   "cell_type": "code",
   "execution_count": 61,
   "id": "cdac00d6",
   "metadata": {},
   "outputs": [
    {
     "name": "stdout",
     "output_type": "stream",
     "text": [
      "2\n",
      "2\n",
      "['a', 'b', 'c', 'd', 'c', 'e', 'f']\n",
      "f\n",
      "['a', 'b', 'c', 'd', 'c', 'e']\n",
      "c\n",
      "['a', 'b', 'd', 'c', 'e']\n",
      "5\n"
     ]
    }
   ],
   "source": [
    "# index() 와 count() 와 pop() 와 len()\n",
    "list3=['a','b','c','d','c','e','f']\n",
    "\n",
    "print(list3.index('c'))  # index() - 찾는 값의 위치를 반환\n",
    "  \n",
    "print(list3.count('c'))  # count() - 값이 몇 번 들었는지를 반환\n",
    "\n",
    "print(list3)\n",
    "print(list3.pop())  # pop() - 마지막 값을 반환 후 삭제! // 인덱스 값 입력 가능\n",
    "print(list3)\n",
    "\n",
    "print(list3.pop(2))  # pop() - 마지막 값을 반환 후 삭제! // 인덱스 값 입력 가능\n",
    "print(list3)\n",
    "\n",
    "print(len(list3))  # len()에 변수 넣으면 길이 반환"
   ]
  },
  {
   "cell_type": "code",
   "execution_count": 45,
   "id": "fa1dce45",
   "metadata": {},
   "outputs": [
    {
     "data": {
      "text/plain": [
       "2"
      ]
     },
     "execution_count": 45,
     "metadata": {},
     "output_type": "execute_result"
    }
   ],
   "source": []
  },
  {
   "cell_type": "markdown",
   "id": "2ac279ec",
   "metadata": {},
   "source": [
    "### 튜플(tuple)\n",
    "-자료구조, 순서가 있는 집합(인덱스)\n",
    "-소괄호로 작성되어지며, 콤마로 구분 된다.\n",
    "-추가,수정,삭제가 불가능하다  -> 수정하면 안 되는 내용을 강제하고, 메모리를 절약\n",
    "-구문을 간단하게 사용한다"
   ]
  },
  {
   "cell_type": "code",
   "execution_count": 58,
   "id": "1f994aa4",
   "metadata": {},
   "outputs": [
    {
     "name": "stdout",
     "output_type": "stream",
     "text": [
      "<class 'tuple'>\n",
      "(1, 2, 3)\n",
      "(1, 2, 'My', 'Name', (1, 2, 3))\n",
      "()\n"
     ]
    }
   ],
   "source": [
    "a= ()\n",
    "print(type(a))\n",
    "\n",
    "b= (1,2,3)\n",
    "print(b)\n",
    "\n",
    "#list 처럼 숫자, 문자 같이 입력 가능, 튜플 안에 튜플 가능\n",
    "c=(1,2,'My', 'Name', b)  \n",
    "print(c)    \n",
    "\n",
    "# 추가, 삭제, 수정은 안 되지만 새로 선언은 가능\n",
    "c=() \n",
    "print(c)"
   ]
  },
  {
   "cell_type": "markdown",
   "id": "b8f3731c",
   "metadata": {},
   "source": [
    "### 공통점: 타입과 상관없이 일련의 요소를 갖는다.\n",
    "-# 차이점 \n",
    "1. 가변성에 차이가 있음. \n",
    "2. 메모리 사용량에 차이가 있음\n"
   ]
  },
  {
   "cell_type": "markdown",
   "id": "01e9424d",
   "metadata": {},
   "source": [
    "### 데이터의 포함 여부 확인 (in, not in)"
   ]
  },
  {
   "cell_type": "code",
   "execution_count": 69,
   "id": "2bec40cd",
   "metadata": {},
   "outputs": [
    {
     "name": "stdout",
     "output_type": "stream",
     "text": [
      "True\n",
      "False\n",
      "False\n"
     ]
    }
   ],
   "source": [
    "str1 = \"파이썬 최고\"\n",
    "print(\"파이썬\" in str1)\n",
    "print(\"파이 썬\" in str1)\n",
    "print(\"파이썬\" not in str1)"
   ]
  },
  {
   "cell_type": "code",
   "execution_count": 71,
   "id": "c01ad7b6",
   "metadata": {},
   "outputs": [
    {
     "name": "stdout",
     "output_type": "stream",
     "text": [
      "False\n"
     ]
    }
   ],
   "source": [
    "list4 =[77,44,33]\n",
    "print(33 not in list4)"
   ]
  },
  {
   "cell_type": "code",
   "execution_count": 80,
   "id": "b4e4b362",
   "metadata": {},
   "outputs": [
    {
     "name": "stdout",
     "output_type": "stream",
     "text": [
      "검색할 문자를 입력하세요>>11\n",
      "*******************************************************\n",
      "11는 리스트에 들어있지 않습니다.\n",
      "*******************************************************\n",
      "*********************************************\n"
     ]
    }
   ],
   "source": [
    "list_fruit = ['딸기', '바나나','수박','체리','포도']\n",
    "fruit = input('검색할 문자를 입력하세요>>')\n",
    "if fruit in list_fruit :\n",
    "    print(f'''*******************************************************\n",
    "{fruit}는 리스트에 {list_fruit.index(fruit)}번째 인덱스에 있습니다.\n",
    "*******************************************************''')\n",
    "else:\n",
    "    print(f'''*******************************************************\n",
    "{fruit}는 리스트에 들어있지 않습니다.\n",
    "*******************************************************''')\n",
    "\n",
    "\n",
    "    \n",
    "print('*'*45)"
   ]
  },
  {
   "cell_type": "code",
   "execution_count": 86,
   "id": "ef59feca",
   "metadata": {},
   "outputs": [
    {
     "name": "stdout",
     "output_type": "stream",
     "text": [
      "******************************\n",
      "검색할 문자를 입력하세요>>i\n",
      "'i'는 2 번 들어 있습니다. \n",
      "******************************\n"
     ]
    }
   ],
   "source": [
    "s = 'Hi, My name is Sam'\n",
    "print('*'*30)\n",
    "ss = input('검색할 문자를 입력하세요>>')\n",
    "if ss in s:\n",
    "    print(f\"'{ss}'는 {s.count(ss)} 번 들어 있습니다. \")\n",
    "else:\n",
    "    print(f\"'{ss}'는 문자열에 들어있지 않습니다. \")\n",
    "print('*'*30)"
   ]
  },
  {
   "cell_type": "markdown",
   "id": "9934dd96",
   "metadata": {},
   "source": [
    "### 반복문\n",
    "-while: 반복 횟수가 명확하지 않을 때\n",
    "-for : 반복 횟수가 명확할 때 주로 사용"
   ]
  },
  {
   "cell_type": "code",
   "execution_count": null,
   "id": "a0ed2519",
   "metadata": {},
   "outputs": [],
   "source": [
    "while 조건문:\n",
    "    실행문장"
   ]
  },
  {
   "cell_type": "code",
   "execution_count": 87,
   "id": "b2602cf4",
   "metadata": {
    "scrolled": true
   },
   "outputs": [
    {
     "name": "stdout",
     "output_type": "stream",
     "text": [
      "1 파이썬 최고!\n",
      "2 파이썬 최고!\n",
      "3 파이썬 최고!\n",
      "4 파이썬 최고!\n",
      "5 파이썬 최고!\n",
      "6 파이썬 최고!\n",
      "7 파이썬 최고!\n",
      "8 파이썬 최고!\n",
      "9 파이썬 최고!\n",
      "10 파이썬 최고!\n",
      "11 파이썬 최고!\n",
      "12 파이썬 최고!\n",
      "13 파이썬 최고!\n"
     ]
    }
   ],
   "source": [
    "num = 0 \n",
    "while num<13:\n",
    "    num +=1\n",
    "    print(f'{num} 파이썬 최고!')"
   ]
  },
  {
   "cell_type": "code",
   "execution_count": 99,
   "id": "9e4d40a7",
   "metadata": {},
   "outputs": [
    {
     "name": "stdout",
     "output_type": "stream",
     "text": [
      "1\n",
      "2\n",
      "3\n"
     ]
    }
   ],
   "source": [
    "num=1 \n",
    "while True:\n",
    "    print(num)\n",
    "    num +=1\n",
    "    if num >3:\n",
    "        break"
   ]
  },
  {
   "cell_type": "code",
   "execution_count": 102,
   "id": "5c4c8339",
   "metadata": {},
   "outputs": [
    {
     "name": "stdout",
     "output_type": "stream",
     "text": [
      "두 숫자를 입력받아 더해주는 프로그램, 둘 다 0이면 종료\n",
      "첫 번째 정수 입력>> 1\n",
      "두 번째 정수 입력>> 2\n",
      "두 정수의 합 : 3\n",
      "첫 번째 정수 입력>> 0\n",
      "두 번째 정수 입력>> 0\n",
      "프로그램이 종료되었습니다.\n"
     ]
    }
   ],
   "source": [
    "num1=0\n",
    "num2 = 0\n",
    "print('두 숫자를 입력받아 더해주는 프로그램, 둘 다 0이면 종료')\n",
    "while True:\n",
    "    num1 = int(input(\"첫 번째 정수 입력>> \"))\n",
    "    num2 = int(input(\"두 번째 정수 입력>> \"))\n",
    "    \n",
    "    if num1 == num2 ==0 :\n",
    "        print(\"프로그램이 종료되었습니다.\")\n",
    "        break\n",
    "    else:\n",
    "        print(f\"두 정수의 합 : {num1+num2}\")\n",
    "    "
   ]
  },
  {
   "cell_type": "code",
   "execution_count": 112,
   "id": "fd1f5025",
   "metadata": {},
   "outputs": [
    {
     "name": "stdout",
     "output_type": "stream",
     "text": [
      "목표 몸무게 관리 프로그램, 달성하면 종료\n",
      "현재 몸무게 입력>> 92\n",
      "목표 몸무게 입력>> 80\n",
      "1주차 감량 몸무게: 3.68\n",
      "2주차 감량 몸무게: 2.21\n",
      "3주차 감량 몸무게: 1.57\n",
      "4주차 감량 몸무게: 1.21\n",
      "5주차 감량 몸무게: 0.98\n",
      "6주차 감량 몸무게: 0.82\n",
      "7주차 감량 몸무게: 0.71\n",
      "8주차 감량 몸무게: 0.62\n",
      "9주차 감량 몸무게: 0.55\n",
      "79.65 kg 달성!! 축하합니다!\n"
     ]
    }
   ],
   "source": [
    "now=goal=weeks=cut=0\n",
    "pct = 25\n",
    "\n",
    "print('목표 몸무게 관리 프로그램, 달성하면 종료')\n",
    "now = int(input(\"현재 몸무게 입력>> \"))\n",
    "goal = int(input(\"목표 몸무게 입력>> \"))\n",
    "\n",
    "while now>goal :\n",
    "    weeks +=1\n",
    "    cut= now/pct\n",
    "    pct+=15\n",
    "    print(f'{weeks}주차 감량 몸무게: {round(cut,2)}')\n",
    "    now -=cut\n",
    "    \n",
    "print(f'{round(now,2)} kg 달성!! 축하합니다!')"
   ]
  },
  {
   "cell_type": "code",
   "execution_count": 113,
   "id": "da08fb0b",
   "metadata": {},
   "outputs": [
    {
     "name": "stdout",
     "output_type": "stream",
     "text": [
      "안\n",
      "녕\n",
      "하\n",
      "세\n",
      "요\n"
     ]
    }
   ],
   "source": [
    "# for문 \n",
    "s= \"안녕하세요\"\n",
    "for i in s:\n",
    "    print(i)"
   ]
  },
  {
   "cell_type": "code",
   "execution_count": 115,
   "id": "4cd9211a",
   "metadata": {},
   "outputs": [
    {
     "name": "stdout",
     "output_type": "stream",
     "text": [
      "햄버거\n",
      "치킨\n",
      "피자\n"
     ]
    }
   ],
   "source": [
    "tuple_food = (\"햄버거\", \"치킨\",\"피자\")\n",
    "for i in tuple_food:\n",
    "    print(i)"
   ]
  },
  {
   "cell_type": "code",
   "execution_count": null,
   "id": "3af261f2",
   "metadata": {},
   "outputs": [],
   "source": []
  },
  {
   "cell_type": "code",
   "execution_count": null,
   "id": "ce3693c5",
   "metadata": {},
   "outputs": [],
   "source": []
  },
  {
   "cell_type": "code",
   "execution_count": null,
   "id": "086daff4",
   "metadata": {},
   "outputs": [],
   "source": []
  },
  {
   "cell_type": "code",
   "execution_count": null,
   "id": "2b729d10",
   "metadata": {},
   "outputs": [],
   "source": []
  },
  {
   "cell_type": "code",
   "execution_count": null,
   "id": "1ac4c4bf",
   "metadata": {},
   "outputs": [],
   "source": []
  },
  {
   "cell_type": "code",
   "execution_count": null,
   "id": "87ff4764",
   "metadata": {},
   "outputs": [],
   "source": []
  },
  {
   "cell_type": "code",
   "execution_count": null,
   "id": "dc298081",
   "metadata": {},
   "outputs": [],
   "source": []
  },
  {
   "cell_type": "code",
   "execution_count": null,
   "id": "f326cfb6",
   "metadata": {},
   "outputs": [],
   "source": []
  },
  {
   "cell_type": "code",
   "execution_count": null,
   "id": "623aef0b",
   "metadata": {},
   "outputs": [],
   "source": []
  },
  {
   "cell_type": "code",
   "execution_count": null,
   "id": "8f1822f2",
   "metadata": {},
   "outputs": [],
   "source": []
  },
  {
   "cell_type": "code",
   "execution_count": null,
   "id": "b0fbb406",
   "metadata": {},
   "outputs": [],
   "source": []
  },
  {
   "cell_type": "code",
   "execution_count": null,
   "id": "2fc3dcde",
   "metadata": {},
   "outputs": [],
   "source": []
  }
 ],
 "metadata": {
  "kernelspec": {
   "display_name": "Python 3 (ipykernel)",
   "language": "python",
   "name": "python3"
  },
  "language_info": {
   "codemirror_mode": {
    "name": "ipython",
    "version": 3
   },
   "file_extension": ".py",
   "mimetype": "text/x-python",
   "name": "python",
   "nbconvert_exporter": "python",
   "pygments_lexer": "ipython3",
   "version": "3.9.7"
  }
 },
 "nbformat": 4,
 "nbformat_minor": 5
}
