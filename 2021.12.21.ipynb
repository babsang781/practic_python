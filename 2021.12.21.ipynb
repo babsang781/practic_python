{
 "cells": [
  {
   "cell_type": "markdown",
   "id": "843bd944",
   "metadata": {},
   "source": [
    "#주석처리! "
   ]
  },
  {
   "cell_type": "code",
   "execution_count": 1,
   "id": "ac510333",
   "metadata": {},
   "outputs": [
    {
     "data": {
      "text/plain": [
       "4"
      ]
     },
     "execution_count": 1,
     "metadata": {},
     "output_type": "execute_result"
    }
   ],
   "source": [
    "1+3 # 1 더하기 3 실행"
   ]
  },
  {
   "cell_type": "code",
   "execution_count": 2,
   "id": "1cd8584f",
   "metadata": {},
   "outputs": [
    {
     "name": "stdout",
     "output_type": "stream",
     "text": [
      "5\n"
     ]
    }
   ],
   "source": [
    "print(5)"
   ]
  },
  {
   "cell_type": "code",
   "execution_count": 3,
   "id": "4f311303",
   "metadata": {},
   "outputs": [
    {
     "name": "stdout",
     "output_type": "stream",
     "text": [
      "2.3\n"
     ]
    }
   ],
   "source": [
    "print(2.3)"
   ]
  },
  {
   "cell_type": "code",
   "execution_count": 4,
   "id": "3fb79029",
   "metadata": {},
   "outputs": [
    {
     "name": "stdout",
     "output_type": "stream",
     "text": [
      "-656898\n"
     ]
    }
   ],
   "source": [
    "print(-656898)"
   ]
  },
  {
   "cell_type": "code",
   "execution_count": 5,
   "id": "5faefa50",
   "metadata": {},
   "outputs": [
    {
     "name": "stdout",
     "output_type": "stream",
     "text": [
      "68.0\n"
     ]
    }
   ],
   "source": [
    "print(12/3+8*8)"
   ]
  },
  {
   "cell_type": "code",
   "execution_count": 6,
   "id": "b16d085d",
   "metadata": {},
   "outputs": [
    {
     "ename": "SyntaxError",
     "evalue": "invalid syntax (Temp/ipykernel_8160/2497053111.py, line 1)",
     "output_type": "error",
     "traceback": [
      "\u001b[1;36m  File \u001b[1;32m\"C:\\Users\\smhrd\\AppData\\Local\\Temp/ipykernel_8160/2497053111.py\"\u001b[1;36m, line \u001b[1;32m1\u001b[0m\n\u001b[1;33m    print(hello world)\u001b[0m\n\u001b[1;37m                ^\u001b[0m\n\u001b[1;31mSyntaxError\u001b[0m\u001b[1;31m:\u001b[0m invalid syntax\n"
     ]
    }
   ],
   "source": [
    "print(hello world)"
   ]
  },
  {
   "cell_type": "code",
   "execution_count": null,
   "id": "b475a9cf",
   "metadata": {},
   "outputs": [],
   "source": [
    "print(\"hello world\") "
   ]
  },
  {
   "cell_type": "code",
   "execution_count": null,
   "id": "d4cd3084",
   "metadata": {},
   "outputs": [],
   "source": [
    "print('hello world') # 작은 따옴표 single quotation 도 상관 없음. 동일하게 사용됨."
   ]
  },
  {
   "cell_type": "code",
   "execution_count": null,
   "id": "94e42856",
   "metadata": {},
   "outputs": [],
   "source": [
    "print(5<10)"
   ]
  },
  {
   "cell_type": "code",
   "execution_count": null,
   "id": "0de5a233",
   "metadata": {},
   "outputs": [],
   "source": [
    "print(5>10)"
   ]
  },
  {
   "cell_type": "code",
   "execution_count": 7,
   "id": "b3b4d535",
   "metadata": {},
   "outputs": [
    {
     "name": "stdout",
     "output_type": "stream",
     "text": [
      "3\n"
     ]
    }
   ],
   "source": [
    "num = 3\n",
    "print(num)"
   ]
  },
  {
   "cell_type": "code",
   "execution_count": 9,
   "id": "5ebd8fef",
   "metadata": {},
   "outputs": [
    {
     "name": "stdout",
     "output_type": "stream",
     "text": [
      "13\n",
      "25\n",
      "77\n"
     ]
    }
   ],
   "source": [
    "num1 = 13\n",
    "num2 = 25\n",
    "num3 = 77\n",
    "print(num1)\n",
    "print(num2)\n",
    "print(num3)"
   ]
  },
  {
   "cell_type": "code",
   "execution_count": 17,
   "id": "8e5de915",
   "metadata": {},
   "outputs": [
    {
     "name": "stdout",
     "output_type": "stream",
     "text": [
      "25\n"
     ]
    }
   ],
   "source": [
    "a=10\n",
    "b = 15\n",
    "print(a+b)"
   ]
  },
  {
   "cell_type": "code",
   "execution_count": 18,
   "id": "50d4a22f",
   "metadata": {},
   "outputs": [
    {
     "name": "stdout",
     "output_type": "stream",
     "text": [
      "20\n",
      "10\n"
     ]
    }
   ],
   "source": [
    "a, b = 20, 10\n",
    "print(a)\n",
    "print(b)\n"
   ]
  },
  {
   "cell_type": "code",
   "execution_count": 21,
   "id": "db8e51db",
   "metadata": {},
   "outputs": [
    {
     "name": "stdout",
     "output_type": "stream",
     "text": [
      "python\n",
      "python\n",
      "python python\n"
     ]
    }
   ],
   "source": [
    "str1=str2 = 'python'\n",
    "print(str1)\n",
    "print(str2)\n",
    "print(str1+ ' '+str2)"
   ]
  },
  {
   "cell_type": "code",
   "execution_count": 15,
   "id": "ff51b73a",
   "metadata": {},
   "outputs": [
    {
     "name": "stdout",
     "output_type": "stream",
     "text": [
      "300\n"
     ]
    }
   ],
   "source": [
    "x, y = 100, 200\n",
    "sum = x +y \n",
    "print(sum)"
   ]
  },
  {
   "cell_type": "code",
   "execution_count": 22,
   "id": "0054ac4e",
   "metadata": {},
   "outputs": [
    {
     "name": "stdout",
     "output_type": "stream",
     "text": [
      "she's gone\n"
     ]
    }
   ],
   "source": [
    "str3 = \"she's gone\"\n",
    "\n",
    "\n",
    "print(str3)"
   ]
  },
  {
   "cell_type": "code",
   "execution_count": 23,
   "id": "c970ef80",
   "metadata": {},
   "outputs": [
    {
     "name": "stdout",
     "output_type": "stream",
     "text": [
      "shes gone\n"
     ]
    }
   ],
   "source": [
    "str3 = 'she''s gone'\n",
    "print(str3)"
   ]
  },
  {
   "cell_type": "code",
   "execution_count": 24,
   "id": "9ef1b38f",
   "metadata": {},
   "outputs": [
    {
     "ename": "SyntaxError",
     "evalue": "invalid syntax (Temp/ipykernel_8160/1637365666.py, line 1)",
     "output_type": "error",
     "traceback": [
      "\u001b[1;36m  File \u001b[1;32m\"C:\\Users\\smhrd\\AppData\\Local\\Temp/ipykernel_8160/1637365666.py\"\u001b[1;36m, line \u001b[1;32m1\u001b[0m\n\u001b[1;33m    str3 = 'she's gone'\u001b[0m\n\u001b[1;37m                ^\u001b[0m\n\u001b[1;31mSyntaxError\u001b[0m\u001b[1;31m:\u001b[0m invalid syntax\n"
     ]
    }
   ],
   "source": [
    "str3 = 'she's gone'\n",
    "print(str3)"
   ]
  },
  {
   "cell_type": "code",
   "execution_count": 26,
   "id": "bd926fc1",
   "metadata": {},
   "outputs": [
    {
     "name": "stdout",
     "output_type": "stream",
     "text": [
      "she's gone\n"
     ]
    }
   ],
   "source": [
    "str3 = 'she\\'s gone'\n",
    "print(str3)"
   ]
  },
  {
   "cell_type": "code",
   "execution_count": 29,
   "id": "24961af6",
   "metadata": {},
   "outputs": [
    {
     "name": "stdout",
     "output_type": "stream",
     "text": [
      "자세히 보아야 예쁘다.\n",
      "오래 보아야 사랑스럽다.\n",
      "너도 그렇다.\n"
     ]
    }
   ],
   "source": [
    "str4 = '자세히 보아야 예쁘다.\\n오래 보아야 사랑스럽다.\\n너도 그렇다.'\n",
    "print(str4)"
   ]
  },
  {
   "cell_type": "code",
   "execution_count": 31,
   "id": "10c3668c",
   "metadata": {},
   "outputs": [
    {
     "name": "stdout",
     "output_type": "stream",
     "text": [
      "자세히 보아야 예쁘다. 오래 보아야 사랑스럽다.\n",
      "너도 그렇다.\n"
     ]
    }
   ],
   "source": [
    "str5 = \"\"\"자세히 보아야 예쁘다. 오래 보아야 사랑스럽다.\n",
    "너도 그렇다.\"\"\"\n",
    "print(str5)"
   ]
  },
  {
   "cell_type": "code",
   "execution_count": 64,
   "id": "90d7c428",
   "metadata": {},
   "outputs": [
    {
     "name": "stdout",
     "output_type": "stream",
     "text": [
      "자세히 보아야 예쁘다. 오래 보아야 사랑스럽다.\n",
      "너도 그렇다.\n"
     ]
    }
   ],
   "source": [
    "str5 = '''자세히 보아야 예쁘다. 오래 보아야 사랑스럽다.\n",
    "너도 그렇다.'''\n",
    "print(str5)"
   ]
  },
  {
   "cell_type": "markdown",
   "id": "8f1cce3a",
   "metadata": {},
   "source": [
    "### 인덱싱과 슬라이싱"
   ]
  },
  {
   "cell_type": "code",
   "execution_count": 62,
   "id": "f68073f4",
   "metadata": {
    "scrolled": true
   },
   "outputs": [
    {
     "name": "stdout",
     "output_type": "stream",
     "text": [
      "My\n",
      "My\n",
      "\n",
      "_a_i_\n",
      "_._\n",
      "_._\n",
      "_.\n",
      "\n",
      ".\n",
      ".\n",
      "\n",
      "Sa\n",
      "Sam\n",
      "\n",
      "Sam\n",
      "\n",
      "My name is\n",
      ".\n",
      ".\n",
      ".\n",
      "Sam\n"
     ]
    }
   ],
   "source": [
    "s=\"My name is BM\"\n",
    "name = \"\"\"My name is\n",
    ".\n",
    ".\n",
    ".\n",
    "Sam\"\"\"\n",
    "print(name[0]+name[1])\n",
    "print(name[0]+ name[1])\n",
    "\n",
    "print(name[-4]+ \"_\"+ name[4]+ \"_\"+name[8]+ \"_\"+name[10]+ \"_\"+name[11]+ \"_\"+name[12]+\"_\"+name[13]+\"_\"+name[14]+\"_\"+name[15])\n",
    "print(name[10:15])\n",
    "\n",
    "\n",
    "#Sam 가져오기\n",
    "print(name[17:19],) \n",
    "print(name[17:20]) # 끝나는 위치 인덱스 앞까지 가져옴\n",
    "print(name[-4:])\n",
    "print()\n",
    "print(name[:])"
   ]
  },
  {
   "cell_type": "code",
   "execution_count": 69,
   "id": "bae02a6c",
   "metadata": {},
   "outputs": [
    {
     "name": "stdout",
     "output_type": "stream",
     "text": [
      "날짜: 2021년 12월 21일\n",
      "날씨: 맑음\n"
     ]
    }
   ],
   "source": [
    "day = \"2021년 12월 21일의 날씨는 맑음입니다.\"\n",
    "#날짜: 2021년 12월 21일 \n",
    "#날씨: 맑음\n",
    "print('날짜: '+day[:13]+\"\\n날씨: \"+day[-6:-4])\n"
   ]
  },
  {
   "cell_type": "markdown",
   "id": "5f188e88",
   "metadata": {},
   "source": [
    "### 문자열 포맷팅 formating"
   ]
  },
  {
   "cell_type": "code",
   "execution_count": 89,
   "id": "42f26c0f",
   "metadata": {},
   "outputs": [
    {
     "name": "stdout",
     "output_type": "stream",
     "text": [
      "오늘은 12월 22일 입니다.\n",
      "오늘은 12월 21일 입니다.\n",
      "오늘은 11월 23일 입니다.\n",
      "오늘은 121월 212일 입니다.\n"
     ]
    }
   ],
   "source": [
    "# 오늘은 12월 21일 입니다.\n",
    "\n",
    "day = 22\n",
    "s= '오늘은 12월 %d일 입니다.'%day\n",
    "print(s)\n",
    "# 성공\n",
    "\n",
    "day = 21\n",
    "s= '오늘은 12월 {}일 입니다.'.format(day)\n",
    "print(s)\n",
    "#성공\n",
    "\n",
    "month = 11\n",
    "day = 23\n",
    "s= '오늘은 {}월 {}일 입니다.'.format(month,day)\n",
    "print(s)\n",
    "#성공!\n",
    "\n",
    "month = 12\n",
    "day = 21\n",
    "s= '오늘은 %d1월 %d2일 입니다.'%(month,day)\n",
    "print(s)"
   ]
  },
  {
   "cell_type": "code",
   "execution_count": null,
   "id": "e9c72762",
   "metadata": {},
   "outputs": [],
   "source": []
  },
  {
   "cell_type": "code",
   "execution_count": 83,
   "id": "0ceeaf40",
   "metadata": {},
   "outputs": [
    {
     "ename": "TypeError",
     "evalue": "unsupported operand type(s) for +: 'int' and 'str'",
     "output_type": "error",
     "traceback": [
      "\u001b[1;31m---------------------------------------------------------------------------\u001b[0m",
      "\u001b[1;31mTypeError\u001b[0m                                 Traceback (most recent call last)",
      "\u001b[1;32m~\\AppData\\Local\\Temp/ipykernel_8160/4007739812.py\u001b[0m in \u001b[0;36m<module>\u001b[1;34m\u001b[0m\n\u001b[0;32m      1\u001b[0m \u001b[0mx\u001b[0m\u001b[1;33m,\u001b[0m \u001b[0my\u001b[0m \u001b[1;33m,\u001b[0m \u001b[0msum2\u001b[0m\u001b[1;33m=\u001b[0m \u001b[1;36m100\u001b[0m\u001b[1;33m,\u001b[0m \u001b[1;36m200\u001b[0m\u001b[1;33m,\u001b[0m \u001b[0mx\u001b[0m\u001b[1;33m+\u001b[0m\u001b[0my\u001b[0m\u001b[1;33m\u001b[0m\u001b[1;33m\u001b[0m\u001b[0m\n\u001b[1;32m----> 2\u001b[1;33m \u001b[0mprint\u001b[0m\u001b[1;33m(\u001b[0m\u001b[0mx\u001b[0m\u001b[1;33m+\u001b[0m\u001b[1;34m'와 '\u001b[0m\u001b[1;33m+\u001b[0m \u001b[0my\u001b[0m\u001b[1;33m+\u001b[0m\u001b[1;34m'의 합은 '\u001b[0m\u001b[1;33m+\u001b[0m \u001b[0msum2\u001b[0m \u001b[1;33m+\u001b[0m\u001b[1;34m'입니다.'\u001b[0m\u001b[1;33m)\u001b[0m\u001b[1;33m\u001b[0m\u001b[1;33m\u001b[0m\u001b[0m\n\u001b[0m",
      "\u001b[1;31mTypeError\u001b[0m: unsupported operand type(s) for +: 'int' and 'str'"
     ]
    }
   ],
   "source": [
    "x, y , sum2= 100, 200, x+y \n",
    "\n",
    "print(x+'와 '+ y+'의 합은 '+ sum2 +'입니다.')"
   ]
  },
  {
   "cell_type": "code",
   "execution_count": 90,
   "id": "1e951b00",
   "metadata": {},
   "outputs": [
    {
     "name": "stdout",
     "output_type": "stream",
     "text": [
      "100\n",
      "200\n",
      "300\n",
      "100와 200의 합은 300 입니다.\n",
      "100와 200의 합은 300 입니다.\n"
     ]
    }
   ],
   "source": [
    "x, y , sum2= 100, 200, x+y \n",
    "print(x)\n",
    "print(y)\n",
    "print(sum2)\n",
    "\n",
    "print('{}와 {}의 합은 {} 입니다.'.format(x,y,x+y))\n",
    "print('%d와 %d의 합은 %d 입니다.'%(x,y,sum2))"
   ]
  },
  {
   "cell_type": "markdown",
   "id": "8184d5cd",
   "metadata": {},
   "source": [
    "#### 마크다운 상태에서 이미지 클립보드 복사를 붙여넣기하면 이미지 첨부 가능"
   ]
  },
  {
   "attachments": {
    "image.png": {
     "image/png": "[encoded data removed]"
    }
   },
   "cell_type": "markdown",
   "id": "110ae919",
   "metadata": {},
   "source": [
    "![image.png](attachment:image.png)"
   ]
  },
  {
   "cell_type": "markdown",
   "id": "b96bfb1f",
   "metadata": {},
   "source": [
    "#### 산술연산자"
   ]
  },
  {
   "cell_type": "code",
   "execution_count": 91,
   "id": "b01bd7b0",
   "metadata": {},
   "outputs": [
    {
     "name": "stdout",
     "output_type": "stream",
     "text": [
      "1.4285714285714286\n",
      "1\n",
      "3\n"
     ]
    }
   ],
   "source": [
    "num1 = 10\n",
    "num2 = 7\n",
    "print(num1 / num2)\n",
    "print(num1 // num2)\n",
    "print(num1 % num2)"
   ]
  },
  {
   "cell_type": "code",
   "execution_count": 101,
   "id": "be16edbb",
   "metadata": {},
   "outputs": [
    {
     "name": "stdout",
     "output_type": "stream",
     "text": [
      "안녕하세요\n",
      "안녕 하세요\n",
      "안녕하세요하세요\n",
      "안녕안녕안녕 하세요\n",
      "안녕안녕안녕안녕안녕안녕안녕 하세요\n"
     ]
    }
   ],
   "source": [
    "str1 = \"안녕\"\n",
    "str2 = \"하세요\"\n",
    "print(str1+str2)\n",
    "print(str1,str2)\n",
    "print(str1+str2*2)\n",
    "print(str1*3,str2)\n",
    "print(str1*num3,str2)"
   ]
  },
  {
   "cell_type": "code",
   "execution_count": 122,
   "id": "14ca95cd",
   "metadata": {},
   "outputs": [
    {
     "name": "stdout",
     "output_type": "stream",
     "text": [
      "17\n",
      "17.0\n",
      "107\n",
      "10d\n"
     ]
    }
   ],
   "source": [
    "str5= \"10\"\n",
    "num3 = 7 \n",
    "print(int(str5) + num3)\n",
    "print(float(str5) + num3)\n",
    "print( str5 + str(num3))\n",
    "print( str5 + chr(100))"
   ]
  },
  {
   "cell_type": "code",
   "execution_count": 110,
   "id": "6d4ad62e",
   "metadata": {},
   "outputs": [],
   "source": [
    "num1 = 23\n",
    "num2 = 3"
   ]
  },
  {
   "cell_type": "code",
   "execution_count": 116,
   "id": "46cb8d3f",
   "metadata": {},
   "outputs": [
    {
     "name": "stdout",
     "output_type": "stream",
     "text": [
      "더하기 결과 : 26\n",
      "빼기 결과 : 20\n",
      "곱하기 결과 : 69\n",
      "나누기 결과 : 7.666667\n",
      "7.666666666666667\n"
     ]
    }
   ],
   "source": [
    "num1 , num2 = 23, 3\n",
    "print(\"더하기 결과 : %d\"%(num1+num2))\n",
    "print(\"빼기 결과 : %d\"%(num1-num2))\n",
    "print(\"곱하기 결과 : %d\"%(num1*num2))\n",
    "print(\"나누기 결과 : %f\"%(num1/num2))\n",
    "print(num1/num2)"
   ]
  },
  {
   "cell_type": "markdown",
   "id": "5008a5cb",
   "metadata": {},
   "source": [
    "### 키보드로 입력받아서 연산 진행!"
   ]
  },
  {
   "cell_type": "markdown",
   "id": "6202037f",
   "metadata": {},
   "source": [
    "#### input() 함수 사용"
   ]
  },
  {
   "cell_type": "code",
   "execution_count": 123,
   "id": "d2789053",
   "metadata": {},
   "outputs": [
    {
     "name": "stdout",
     "output_type": "stream",
     "text": [
      "박상민\n"
     ]
    }
   ],
   "source": [
    "name = input()"
   ]
  },
  {
   "cell_type": "code",
   "execution_count": 124,
   "id": "5ce0a9fb",
   "metadata": {},
   "outputs": [
    {
     "name": "stdout",
     "output_type": "stream",
     "text": [
      "박상민\n"
     ]
    }
   ],
   "source": [
    "print(name)"
   ]
  },
  {
   "cell_type": "code",
   "execution_count": 129,
   "id": "fc8f29af",
   "metadata": {},
   "outputs": [
    {
     "name": "stdout",
     "output_type": "stream",
     "text": [
      "정수 입력>>23\n"
     ]
    }
   ],
   "source": [
    "num = int(input(\"정수 입력>>\"))"
   ]
  },
  {
   "cell_type": "code",
   "execution_count": 132,
   "id": "ee8e460e",
   "metadata": {},
   "outputs": [
    {
     "name": "stdout",
     "output_type": "stream",
     "text": [
      "11.5\n"
     ]
    }
   ],
   "source": [
    "print(num/2)"
   ]
  },
  {
   "cell_type": "code",
   "execution_count": 130,
   "id": "4b759433",
   "metadata": {},
   "outputs": [
    {
     "data": {
      "text/plain": [
       "int"
      ]
     },
     "execution_count": 130,
     "metadata": {},
     "output_type": "execute_result"
    }
   ],
   "source": [
    "type(num)"
   ]
  },
  {
   "cell_type": "code",
   "execution_count": 140,
   "id": "a36669ba",
   "metadata": {
    "scrolled": true
   },
   "outputs": [
    {
     "name": "stdout",
     "output_type": "stream",
     "text": [
      "입력>>11\n",
      "입력>>3\n",
      "33\n",
      "\n",
      "더하기 결과 : 14\n",
      "빼기 결과 : 8\n",
      "곱하기 결과 : 33\n",
      "나누기 결과 : 3.666667\n"
     ]
    }
   ],
   "source": [
    "num1 = int(input(\"입력>>\"))\n",
    "num2 = int(input(\"입력>>\"))\n",
    "print(num1*num2)\n",
    "print(\"\\n더하기 결과 : %d\"%(num1+num2))\n",
    "print(\"빼기 결과 : %d\"%(num1-num2))\n",
    "print(\"곱하기 결과 : {}\".format(num1*num2))\n",
    "print(\"나누기 결과 : %f\"%(num1/num2))"
   ]
  },
  {
   "cell_type": "code",
   "execution_count": 141,
   "id": "37ac6284",
   "metadata": {},
   "outputs": [
    {
     "name": "stdout",
     "output_type": "stream",
     "text": [
      "python 점수 입력>> 100\n",
      "머신러닝 점수 입력>> 80\n",
      "딥러닝 점수 입력>> 60\n",
      "합계 : 240\n",
      "평균 : 80.0\n"
     ]
    }
   ],
   "source": [
    "py = int(input(\"python 점수 입력>> \"))\n",
    "ml = int(input(\"머신러닝 점수 입력>> \"))\n",
    "dl = int(input(\"딥러닝 점수 입력>> \"))\n",
    "print(\"합계 : {}\".format(py+ml+dl))\n",
    "print(\"평균 : {}\".format((py+ml+dl)/3))"
   ]
  },
  {
   "cell_type": "markdown",
   "id": "5c38f049",
   "metadata": {},
   "source": [
    "#### 지수연산자(**)"
   ]
  },
  {
   "cell_type": "code",
   "execution_count": 142,
   "id": "32f71ac7",
   "metadata": {},
   "outputs": [
    {
     "name": "stdout",
     "output_type": "stream",
     "text": [
      "9\n"
     ]
    }
   ],
   "source": [
    "num = 3\n",
    "power = 2 \n",
    "print(num**power)"
   ]
  },
  {
   "cell_type": "code",
   "execution_count": 144,
   "id": "10913777",
   "metadata": {},
   "outputs": [
    {
     "name": "stdout",
     "output_type": "stream",
     "text": [
      "2\n"
     ]
    }
   ],
   "source": [
    "i = 1\n",
    "i+=1\n",
    "print(i)"
   ]
  },
  {
   "cell_type": "code",
   "execution_count": 145,
   "id": "a7d37239",
   "metadata": {},
   "outputs": [
    {
     "name": "stdout",
     "output_type": "stream",
     "text": [
      "7\n",
      "3\n"
     ]
    }
   ],
   "source": [
    "a = 3\n",
    "b = 7 \n",
    "temp = a\n",
    "a= b\n",
    "b= temp\n",
    "print(a)\n",
    "print(b)"
   ]
  },
  {
   "cell_type": "code",
   "execution_count": 146,
   "id": "ed3fdc35",
   "metadata": {},
   "outputs": [
    {
     "name": "stdout",
     "output_type": "stream",
     "text": [
      "3\n",
      "7\n"
     ]
    }
   ],
   "source": [
    "a, b = b, a \n",
    "print(a)\n",
    "print(b)"
   ]
  },
  {
   "cell_type": "markdown",
   "id": "fcca26fb",
   "metadata": {},
   "source": [
    "#### 논리 연산자"
   ]
  },
  {
   "cell_type": "code",
   "execution_count": null,
   "id": "27c22bae",
   "metadata": {},
   "outputs": [],
   "source": [
    "#not, and, or"
   ]
  },
  {
   "cell_type": "code",
   "execution_count": 149,
   "id": "d978930b",
   "metadata": {},
   "outputs": [
    {
     "name": "stdout",
     "output_type": "stream",
     "text": [
      "True\n"
     ]
    }
   ],
   "source": [
    "print(1<5)"
   ]
  },
  {
   "cell_type": "code",
   "execution_count": 151,
   "id": "f2a2eb75",
   "metadata": {},
   "outputs": [
    {
     "name": "stdout",
     "output_type": "stream",
     "text": [
      "True\n",
      "False\n"
     ]
    }
   ],
   "source": [
    "a=1\n",
    "b=5\n",
    "print(a<b)\n",
    "not a<b\n",
    "print(not a<b)"
   ]
  },
  {
   "cell_type": "code",
   "execution_count": null,
   "id": "6a162902",
   "metadata": {},
   "outputs": [],
   "source": []
  },
  {
   "cell_type": "code",
   "execution_count": null,
   "id": "e8e5aa0e",
   "metadata": {},
   "outputs": [],
   "source": []
  },
  {
   "cell_type": "code",
   "execution_count": null,
   "id": "3800a08a",
   "metadata": {},
   "outputs": [],
   "source": []
  },
  {
   "cell_type": "code",
   "execution_count": null,
   "id": "f3a393bb",
   "metadata": {},
   "outputs": [],
   "source": []
  },
  {
   "cell_type": "code",
   "execution_count": null,
   "id": "19d3ee0f",
   "metadata": {},
   "outputs": [],
   "source": []
  },
  {
   "cell_type": "code",
   "execution_count": null,
   "id": "d539b1d3",
   "metadata": {},
   "outputs": [],
   "source": []
  }
 ],
 "metadata": {
  "kernelspec": {
   "display_name": "Python 3 (ipykernel)",
   "language": "python",
   "name": "python3"
  },
  "language_info": {
   "codemirror_mode": {
    "name": "ipython",
    "version": 3
   },
   "file_extension": ".py",
   "mimetype": "text/x-python",
   "name": "python",
   "nbconvert_exporter": "python",
   "pygments_lexer": "ipython3",
   "version": "3.9.7"
  }
 },
 "nbformat": 4,
 "nbformat_minor": 5
}
