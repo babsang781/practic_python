{
 "cells": [
  {
   "cell_type": "markdown",
   "id": "44aa905c",
   "metadata": {},
   "source": [
    "# Selenium 라이브러리\n",
    " - 웹페이지를 자동으로 제어하는 라이브러리"
   ]
  },
  {
   "cell_type": "code",
   "execution_count": 6,
   "id": "ba0bc0e2",
   "metadata": {},
   "outputs": [],
   "source": [
    "# 기본 내장 라이브러리가 아니기 때문에 반드시 한 번 설치!\n",
    "# !pip install selenium\n",
    "#넘파이 판다스도 설치해야함"
   ]
  },
  {
   "cell_type": "code",
   "execution_count": 20,
   "id": "ec584d6f",
   "metadata": {},
   "outputs": [],
   "source": [
    "# webdriver : 웹을 통제하기 위한 라이브러리( 크롭 브라우저 역할을 대신하는 것)\n",
    "# Keys : 키보드 역할을 해주는 라이브러리\n",
    "from selenium import webdriver as wb\n",
    "from selenium.webdriver.common.keys import Keys"
   ]
  },
  {
   "cell_type": "markdown",
   "id": "0a9102f8",
   "metadata": {},
   "source": [
    "#### 크롬 사용중인 것 버전 꼭 확인하고 , 크롬드라이버 검색 & 설치 윈도용\n",
    "#### 압축을 풀고 나서 파이썬-주피터노트북 쓰고 있는 위치> 사용하는 노트북 위치로 (2. 크롤링>) 로 옯기기"
   ]
  },
  {
   "cell_type": "code",
   "execution_count": null,
   "id": "b1c9c8ef",
   "metadata": {},
   "outputs": [],
   "source": []
  },
  {
   "cell_type": "code",
   "execution_count": 8,
   "id": "e35231fe",
   "metadata": {},
   "outputs": [],
   "source": [
    "## wb.Chrome() 크롬 실행 명령\n",
    "## .get(\"URL\")   해당 주소로 이동\n",
    "\n",
    "#크롬드라이버 좀 실행시켜줘, \n",
    "driver= wb.Chrome()\n",
    "# 드라이버야 네이버 페이지좀 열어줘\n",
    "driver.get(\"https://www.naver.com\")"
   ]
  },
  {
   "cell_type": "code",
   "execution_count": 9,
   "id": "051e5143",
   "metadata": {},
   "outputs": [
    {
     "name": "stderr",
     "output_type": "stream",
     "text": [
      "C:\\Users\\smhrd\\AppData\\Local\\Temp/ipykernel_6508/3665133014.py:2: DeprecationWarning: find_element_by_* commands are deprecated. Please use find_element() instead\n",
      "  search = driver.find_element_by_id(\"query\")\n"
     ]
    }
   ],
   "source": [
    "# 드라이버야 아이디가 ~ 인 요소 좀 찾아와!\n",
    "search = driver.find_element_by_id(\"query\")"
   ]
  },
  {
   "cell_type": "code",
   "execution_count": 10,
   "id": "95d706aa",
   "metadata": {},
   "outputs": [],
   "source": [
    "# 검색창에 코로나 값을 보내줘\n",
    "search.send_keys(\"코로나\")"
   ]
  },
  {
   "cell_type": "code",
   "execution_count": 11,
   "id": "08290f83",
   "metadata": {},
   "outputs": [],
   "source": [
    "# 뒤로가라고 명령 ( 브라우저 DRIVER 한테)\n",
    "driver.back()\n",
    "# driver.forward()   내가 그냥 테스트 한 거"
   ]
  },
  {
   "cell_type": "markdown",
   "id": "3e7146bb",
   "metadata": {},
   "source": [
    "## 검색 진행하기\n",
    " - 1. 엔터를 입력해서 검색 # \n",
    " - 2. 검색버튼 클릭 "
   ]
  },
  {
   "cell_type": "code",
   "execution_count": 12,
   "id": "8ff5254e",
   "metadata": {},
   "outputs": [
    {
     "ename": "StaleElementReferenceException",
     "evalue": "Message: stale element reference: element is not attached to the page document\n  (Session info: chrome=97.0.4692.71)\nStacktrace:\nBacktrace:\n\tOrdinal0 [0x00B1FDC3+2555331]\n\tOrdinal0 [0x00AB77F1+2127857]\n\tOrdinal0 [0x009B2E08+1060360]\n\tOrdinal0 [0x009B5524+1070372]\n\tOrdinal0 [0x009B53EE+1070062]\n\tOrdinal0 [0x009B5650+1070672]\n\tOrdinal0 [0x009DEEB9+1240761]\n\tOrdinal0 [0x009DEF94+1240980]\n\tOrdinal0 [0x009D76AD+1210029]\n\tOrdinal0 [0x009F7B0C+1342220]\n\tOrdinal0 [0x009D4984+1198468]\n\tOrdinal0 [0x009F7C14+1342484]\n\tOrdinal0 [0x00A075FA+1406458]\n\tOrdinal0 [0x009F7976+1341814]\n\tOrdinal0 [0x009D36B6+1193654]\n\tOrdinal0 [0x009D4546+1197382]\n\tGetHandleVerifier [0x00CB9622+1619522]\n\tGetHandleVerifier [0x00D6882C+2336844]\n\tGetHandleVerifier [0x00BB23E1+541697]\n\tGetHandleVerifier [0x00BB1443+537699]\n\tOrdinal0 [0x00ABD18E+2150798]\n\tOrdinal0 [0x00AC1518+2168088]\n\tOrdinal0 [0x00AC1660+2168416]\n\tOrdinal0 [0x00ACB330+2208560]\n\tBaseThreadInitThunk [0x7530FA29+25]\n\tRtlGetAppContainerNamedObjectPath [0x77377A9E+286]\n\tRtlGetAppContainerNamedObjectPath [0x77377A6E+238]\n",
     "output_type": "error",
     "traceback": [
      "\u001b[1;31m---------------------------------------------------------------------------\u001b[0m",
      "\u001b[1;31mStaleElementReferenceException\u001b[0m            Traceback (most recent call last)",
      "\u001b[1;32m~\\AppData\\Local\\Temp/ipykernel_6508/1335203021.py\u001b[0m in \u001b[0;36m<module>\u001b[1;34m\u001b[0m\n\u001b[0;32m      1\u001b[0m \u001b[1;31m# 1. 대문자 Keys .대문자 .ENTER\u001b[0m\u001b[1;33m\u001b[0m\u001b[1;33m\u001b[0m\u001b[0m\n\u001b[1;32m----> 2\u001b[1;33m \u001b[0msearch\u001b[0m\u001b[1;33m.\u001b[0m\u001b[0msend_keys\u001b[0m\u001b[1;33m(\u001b[0m\u001b[0mKeys\u001b[0m\u001b[1;33m.\u001b[0m\u001b[0mENTER\u001b[0m\u001b[1;33m)\u001b[0m\u001b[1;33m\u001b[0m\u001b[1;33m\u001b[0m\u001b[0m\n\u001b[0m",
      "\u001b[1;32m~\\anaconda3\\lib\\site-packages\\selenium\\webdriver\\remote\\webelement.py\u001b[0m in \u001b[0;36msend_keys\u001b[1;34m(self, *value)\u001b[0m\n\u001b[0;32m    538\u001b[0m                 \u001b[0mvalue\u001b[0m \u001b[1;33m=\u001b[0m \u001b[1;34m'\\n'\u001b[0m\u001b[1;33m.\u001b[0m\u001b[0mjoin\u001b[0m\u001b[1;33m(\u001b[0m\u001b[0mremote_files\u001b[0m\u001b[1;33m)\u001b[0m\u001b[1;33m\u001b[0m\u001b[1;33m\u001b[0m\u001b[0m\n\u001b[0;32m    539\u001b[0m \u001b[1;33m\u001b[0m\u001b[0m\n\u001b[1;32m--> 540\u001b[1;33m         self._execute(Command.SEND_KEYS_TO_ELEMENT,\n\u001b[0m\u001b[0;32m    541\u001b[0m                       {'text': \"\".join(keys_to_typing(value)),\n\u001b[0;32m    542\u001b[0m                        'value': keys_to_typing(value)})\n",
      "\u001b[1;32m~\\anaconda3\\lib\\site-packages\\selenium\\webdriver\\remote\\webelement.py\u001b[0m in \u001b[0;36m_execute\u001b[1;34m(self, command, params)\u001b[0m\n\u001b[0;32m    708\u001b[0m             \u001b[0mparams\u001b[0m \u001b[1;33m=\u001b[0m \u001b[1;33m{\u001b[0m\u001b[1;33m}\u001b[0m\u001b[1;33m\u001b[0m\u001b[1;33m\u001b[0m\u001b[0m\n\u001b[0;32m    709\u001b[0m         \u001b[0mparams\u001b[0m\u001b[1;33m[\u001b[0m\u001b[1;34m'id'\u001b[0m\u001b[1;33m]\u001b[0m \u001b[1;33m=\u001b[0m \u001b[0mself\u001b[0m\u001b[1;33m.\u001b[0m\u001b[0m_id\u001b[0m\u001b[1;33m\u001b[0m\u001b[1;33m\u001b[0m\u001b[0m\n\u001b[1;32m--> 710\u001b[1;33m         \u001b[1;32mreturn\u001b[0m \u001b[0mself\u001b[0m\u001b[1;33m.\u001b[0m\u001b[0m_parent\u001b[0m\u001b[1;33m.\u001b[0m\u001b[0mexecute\u001b[0m\u001b[1;33m(\u001b[0m\u001b[0mcommand\u001b[0m\u001b[1;33m,\u001b[0m \u001b[0mparams\u001b[0m\u001b[1;33m)\u001b[0m\u001b[1;33m\u001b[0m\u001b[1;33m\u001b[0m\u001b[0m\n\u001b[0m\u001b[0;32m    711\u001b[0m \u001b[1;33m\u001b[0m\u001b[0m\n\u001b[0;32m    712\u001b[0m     \u001b[1;32mdef\u001b[0m \u001b[0mfind_element\u001b[0m\u001b[1;33m(\u001b[0m\u001b[0mself\u001b[0m\u001b[1;33m,\u001b[0m \u001b[0mby\u001b[0m\u001b[1;33m=\u001b[0m\u001b[0mBy\u001b[0m\u001b[1;33m.\u001b[0m\u001b[0mID\u001b[0m\u001b[1;33m,\u001b[0m \u001b[0mvalue\u001b[0m\u001b[1;33m=\u001b[0m\u001b[1;32mNone\u001b[0m\u001b[1;33m)\u001b[0m\u001b[1;33m:\u001b[0m\u001b[1;33m\u001b[0m\u001b[1;33m\u001b[0m\u001b[0m\n",
      "\u001b[1;32m~\\anaconda3\\lib\\site-packages\\selenium\\webdriver\\remote\\webdriver.py\u001b[0m in \u001b[0;36mexecute\u001b[1;34m(self, driver_command, params)\u001b[0m\n\u001b[0;32m    422\u001b[0m         \u001b[0mresponse\u001b[0m \u001b[1;33m=\u001b[0m \u001b[0mself\u001b[0m\u001b[1;33m.\u001b[0m\u001b[0mcommand_executor\u001b[0m\u001b[1;33m.\u001b[0m\u001b[0mexecute\u001b[0m\u001b[1;33m(\u001b[0m\u001b[0mdriver_command\u001b[0m\u001b[1;33m,\u001b[0m \u001b[0mparams\u001b[0m\u001b[1;33m)\u001b[0m\u001b[1;33m\u001b[0m\u001b[1;33m\u001b[0m\u001b[0m\n\u001b[0;32m    423\u001b[0m         \u001b[1;32mif\u001b[0m \u001b[0mresponse\u001b[0m\u001b[1;33m:\u001b[0m\u001b[1;33m\u001b[0m\u001b[1;33m\u001b[0m\u001b[0m\n\u001b[1;32m--> 424\u001b[1;33m             \u001b[0mself\u001b[0m\u001b[1;33m.\u001b[0m\u001b[0merror_handler\u001b[0m\u001b[1;33m.\u001b[0m\u001b[0mcheck_response\u001b[0m\u001b[1;33m(\u001b[0m\u001b[0mresponse\u001b[0m\u001b[1;33m)\u001b[0m\u001b[1;33m\u001b[0m\u001b[1;33m\u001b[0m\u001b[0m\n\u001b[0m\u001b[0;32m    425\u001b[0m             response['value'] = self._unwrap_value(\n\u001b[0;32m    426\u001b[0m                 response.get('value', None))\n",
      "\u001b[1;32m~\\anaconda3\\lib\\site-packages\\selenium\\webdriver\\remote\\errorhandler.py\u001b[0m in \u001b[0;36mcheck_response\u001b[1;34m(self, response)\u001b[0m\n\u001b[0;32m    245\u001b[0m                 \u001b[0malert_text\u001b[0m \u001b[1;33m=\u001b[0m \u001b[0mvalue\u001b[0m\u001b[1;33m[\u001b[0m\u001b[1;34m'alert'\u001b[0m\u001b[1;33m]\u001b[0m\u001b[1;33m.\u001b[0m\u001b[0mget\u001b[0m\u001b[1;33m(\u001b[0m\u001b[1;34m'text'\u001b[0m\u001b[1;33m)\u001b[0m\u001b[1;33m\u001b[0m\u001b[1;33m\u001b[0m\u001b[0m\n\u001b[0;32m    246\u001b[0m             \u001b[1;32mraise\u001b[0m \u001b[0mexception_class\u001b[0m\u001b[1;33m(\u001b[0m\u001b[0mmessage\u001b[0m\u001b[1;33m,\u001b[0m \u001b[0mscreen\u001b[0m\u001b[1;33m,\u001b[0m \u001b[0mstacktrace\u001b[0m\u001b[1;33m,\u001b[0m \u001b[0malert_text\u001b[0m\u001b[1;33m)\u001b[0m  \u001b[1;31m# type: ignore[call-arg]  # mypy is not smart enough here\u001b[0m\u001b[1;33m\u001b[0m\u001b[1;33m\u001b[0m\u001b[0m\n\u001b[1;32m--> 247\u001b[1;33m         \u001b[1;32mraise\u001b[0m \u001b[0mexception_class\u001b[0m\u001b[1;33m(\u001b[0m\u001b[0mmessage\u001b[0m\u001b[1;33m,\u001b[0m \u001b[0mscreen\u001b[0m\u001b[1;33m,\u001b[0m \u001b[0mstacktrace\u001b[0m\u001b[1;33m)\u001b[0m\u001b[1;33m\u001b[0m\u001b[1;33m\u001b[0m\u001b[0m\n\u001b[0m\u001b[0;32m    248\u001b[0m \u001b[1;33m\u001b[0m\u001b[0m\n\u001b[0;32m    249\u001b[0m     \u001b[1;32mdef\u001b[0m \u001b[0m_value_or_default\u001b[0m\u001b[1;33m(\u001b[0m\u001b[0mself\u001b[0m\u001b[1;33m,\u001b[0m \u001b[0mobj\u001b[0m\u001b[1;33m:\u001b[0m \u001b[0mMapping\u001b[0m\u001b[1;33m[\u001b[0m\u001b[0m_KT\u001b[0m\u001b[1;33m,\u001b[0m \u001b[0m_VT\u001b[0m\u001b[1;33m]\u001b[0m\u001b[1;33m,\u001b[0m \u001b[0mkey\u001b[0m\u001b[1;33m:\u001b[0m \u001b[0m_KT\u001b[0m\u001b[1;33m,\u001b[0m \u001b[0mdefault\u001b[0m\u001b[1;33m:\u001b[0m \u001b[0m_VT\u001b[0m\u001b[1;33m)\u001b[0m \u001b[1;33m->\u001b[0m \u001b[0m_VT\u001b[0m\u001b[1;33m:\u001b[0m\u001b[1;33m\u001b[0m\u001b[1;33m\u001b[0m\u001b[0m\n",
      "\u001b[1;31mStaleElementReferenceException\u001b[0m: Message: stale element reference: element is not attached to the page document\n  (Session info: chrome=97.0.4692.71)\nStacktrace:\nBacktrace:\n\tOrdinal0 [0x00B1FDC3+2555331]\n\tOrdinal0 [0x00AB77F1+2127857]\n\tOrdinal0 [0x009B2E08+1060360]\n\tOrdinal0 [0x009B5524+1070372]\n\tOrdinal0 [0x009B53EE+1070062]\n\tOrdinal0 [0x009B5650+1070672]\n\tOrdinal0 [0x009DEEB9+1240761]\n\tOrdinal0 [0x009DEF94+1240980]\n\tOrdinal0 [0x009D76AD+1210029]\n\tOrdinal0 [0x009F7B0C+1342220]\n\tOrdinal0 [0x009D4984+1198468]\n\tOrdinal0 [0x009F7C14+1342484]\n\tOrdinal0 [0x00A075FA+1406458]\n\tOrdinal0 [0x009F7976+1341814]\n\tOrdinal0 [0x009D36B6+1193654]\n\tOrdinal0 [0x009D4546+1197382]\n\tGetHandleVerifier [0x00CB9622+1619522]\n\tGetHandleVerifier [0x00D6882C+2336844]\n\tGetHandleVerifier [0x00BB23E1+541697]\n\tGetHandleVerifier [0x00BB1443+537699]\n\tOrdinal0 [0x00ABD18E+2150798]\n\tOrdinal0 [0x00AC1518+2168088]\n\tOrdinal0 [0x00AC1660+2168416]\n\tOrdinal0 [0x00ACB330+2208560]\n\tBaseThreadInitThunk [0x7530FA29+25]\n\tRtlGetAppContainerNamedObjectPath [0x77377A9E+286]\n\tRtlGetAppContainerNamedObjectPath [0x77377A6E+238]\n"
     ]
    }
   ],
   "source": [
    "# 1. 대문자 Keys .대문자 .ENTER \n",
    "search.send_keys(Keys.ENTER)"
   ]
  },
  {
   "cell_type": "code",
   "execution_count": 13,
   "id": "3ed4d149",
   "metadata": {},
   "outputs": [
    {
     "name": "stderr",
     "output_type": "stream",
     "text": [
      "C:\\Users\\smhrd\\AppData\\Local\\Temp/ipykernel_6508/4144409148.py:2: DeprecationWarning: find_element_by_* commands are deprecated. Please use find_element() instead\n",
      "  btn = driver.find_element_by_id(\"search_btn\")\n"
     ]
    },
    {
     "ename": "NoSuchElementException",
     "evalue": "Message: no such element: Unable to locate element: {\"method\":\"css selector\",\"selector\":\"[id=\"search_btn\"]\"}\n  (Session info: chrome=97.0.4692.71)\nStacktrace:\nBacktrace:\n\tOrdinal0 [0x00B1FDC3+2555331]\n\tOrdinal0 [0x00AB77F1+2127857]\n\tOrdinal0 [0x009B2E08+1060360]\n\tOrdinal0 [0x009DE49E+1238174]\n\tOrdinal0 [0x009DE69B+1238683]\n\tOrdinal0 [0x00A09252+1413714]\n\tOrdinal0 [0x009F7B54+1342292]\n\tOrdinal0 [0x00A075FA+1406458]\n\tOrdinal0 [0x009F7976+1341814]\n\tOrdinal0 [0x009D36B6+1193654]\n\tOrdinal0 [0x009D4546+1197382]\n\tGetHandleVerifier [0x00CB9622+1619522]\n\tGetHandleVerifier [0x00D6882C+2336844]\n\tGetHandleVerifier [0x00BB23E1+541697]\n\tGetHandleVerifier [0x00BB1443+537699]\n\tOrdinal0 [0x00ABD18E+2150798]\n\tOrdinal0 [0x00AC1518+2168088]\n\tOrdinal0 [0x00AC1660+2168416]\n\tOrdinal0 [0x00ACB330+2208560]\n\tBaseThreadInitThunk [0x7530FA29+25]\n\tRtlGetAppContainerNamedObjectPath [0x77377A9E+286]\n\tRtlGetAppContainerNamedObjectPath [0x77377A6E+238]\n",
     "output_type": "error",
     "traceback": [
      "\u001b[1;31m---------------------------------------------------------------------------\u001b[0m",
      "\u001b[1;31mNoSuchElementException\u001b[0m                    Traceback (most recent call last)",
      "\u001b[1;32m~\\AppData\\Local\\Temp/ipykernel_6508/4144409148.py\u001b[0m in \u001b[0;36m<module>\u001b[1;34m\u001b[0m\n\u001b[0;32m      1\u001b[0m \u001b[1;31m# 2. 검색 버튼 찾기\u001b[0m\u001b[1;33m\u001b[0m\u001b[1;33m\u001b[0m\u001b[0m\n\u001b[1;32m----> 2\u001b[1;33m \u001b[0mbtn\u001b[0m \u001b[1;33m=\u001b[0m \u001b[0mdriver\u001b[0m\u001b[1;33m.\u001b[0m\u001b[0mfind_element_by_id\u001b[0m\u001b[1;33m(\u001b[0m\u001b[1;34m\"search_btn\"\u001b[0m\u001b[1;33m)\u001b[0m\u001b[1;33m\u001b[0m\u001b[1;33m\u001b[0m\u001b[0m\n\u001b[0m\u001b[0;32m      3\u001b[0m \u001b[0mbtn\u001b[0m\u001b[1;33m.\u001b[0m\u001b[0mclick\u001b[0m\u001b[1;33m(\u001b[0m\u001b[1;33m)\u001b[0m\u001b[1;33m\u001b[0m\u001b[1;33m\u001b[0m\u001b[0m\n",
      "\u001b[1;32m~\\anaconda3\\lib\\site-packages\\selenium\\webdriver\\remote\\webdriver.py\u001b[0m in \u001b[0;36mfind_element_by_id\u001b[1;34m(self, id_)\u001b[0m\n\u001b[0;32m    470\u001b[0m             \u001b[0mstacklevel\u001b[0m\u001b[1;33m=\u001b[0m\u001b[1;36m2\u001b[0m\u001b[1;33m,\u001b[0m\u001b[1;33m\u001b[0m\u001b[1;33m\u001b[0m\u001b[0m\n\u001b[0;32m    471\u001b[0m         )\n\u001b[1;32m--> 472\u001b[1;33m         \u001b[1;32mreturn\u001b[0m \u001b[0mself\u001b[0m\u001b[1;33m.\u001b[0m\u001b[0mfind_element\u001b[0m\u001b[1;33m(\u001b[0m\u001b[0mby\u001b[0m\u001b[1;33m=\u001b[0m\u001b[0mBy\u001b[0m\u001b[1;33m.\u001b[0m\u001b[0mID\u001b[0m\u001b[1;33m,\u001b[0m \u001b[0mvalue\u001b[0m\u001b[1;33m=\u001b[0m\u001b[0mid_\u001b[0m\u001b[1;33m)\u001b[0m\u001b[1;33m\u001b[0m\u001b[1;33m\u001b[0m\u001b[0m\n\u001b[0m\u001b[0;32m    473\u001b[0m \u001b[1;33m\u001b[0m\u001b[0m\n\u001b[0;32m    474\u001b[0m     \u001b[1;32mdef\u001b[0m \u001b[0mfind_elements_by_id\u001b[0m\u001b[1;33m(\u001b[0m\u001b[0mself\u001b[0m\u001b[1;33m,\u001b[0m \u001b[0mid_\u001b[0m\u001b[1;33m)\u001b[0m \u001b[1;33m->\u001b[0m \u001b[0mWebElement\u001b[0m\u001b[1;33m:\u001b[0m\u001b[1;33m\u001b[0m\u001b[1;33m\u001b[0m\u001b[0m\n",
      "\u001b[1;32m~\\anaconda3\\lib\\site-packages\\selenium\\webdriver\\remote\\webdriver.py\u001b[0m in \u001b[0;36mfind_element\u001b[1;34m(self, by, value)\u001b[0m\n\u001b[0;32m   1242\u001b[0m             \u001b[0mvalue\u001b[0m \u001b[1;33m=\u001b[0m \u001b[1;34m'[name=\"%s\"]'\u001b[0m \u001b[1;33m%\u001b[0m \u001b[0mvalue\u001b[0m\u001b[1;33m\u001b[0m\u001b[1;33m\u001b[0m\u001b[0m\n\u001b[0;32m   1243\u001b[0m \u001b[1;33m\u001b[0m\u001b[0m\n\u001b[1;32m-> 1244\u001b[1;33m         return self.execute(Command.FIND_ELEMENT, {\n\u001b[0m\u001b[0;32m   1245\u001b[0m             \u001b[1;34m'using'\u001b[0m\u001b[1;33m:\u001b[0m \u001b[0mby\u001b[0m\u001b[1;33m,\u001b[0m\u001b[1;33m\u001b[0m\u001b[1;33m\u001b[0m\u001b[0m\n\u001b[0;32m   1246\u001b[0m             'value': value})['value']\n",
      "\u001b[1;32m~\\anaconda3\\lib\\site-packages\\selenium\\webdriver\\remote\\webdriver.py\u001b[0m in \u001b[0;36mexecute\u001b[1;34m(self, driver_command, params)\u001b[0m\n\u001b[0;32m    422\u001b[0m         \u001b[0mresponse\u001b[0m \u001b[1;33m=\u001b[0m \u001b[0mself\u001b[0m\u001b[1;33m.\u001b[0m\u001b[0mcommand_executor\u001b[0m\u001b[1;33m.\u001b[0m\u001b[0mexecute\u001b[0m\u001b[1;33m(\u001b[0m\u001b[0mdriver_command\u001b[0m\u001b[1;33m,\u001b[0m \u001b[0mparams\u001b[0m\u001b[1;33m)\u001b[0m\u001b[1;33m\u001b[0m\u001b[1;33m\u001b[0m\u001b[0m\n\u001b[0;32m    423\u001b[0m         \u001b[1;32mif\u001b[0m \u001b[0mresponse\u001b[0m\u001b[1;33m:\u001b[0m\u001b[1;33m\u001b[0m\u001b[1;33m\u001b[0m\u001b[0m\n\u001b[1;32m--> 424\u001b[1;33m             \u001b[0mself\u001b[0m\u001b[1;33m.\u001b[0m\u001b[0merror_handler\u001b[0m\u001b[1;33m.\u001b[0m\u001b[0mcheck_response\u001b[0m\u001b[1;33m(\u001b[0m\u001b[0mresponse\u001b[0m\u001b[1;33m)\u001b[0m\u001b[1;33m\u001b[0m\u001b[1;33m\u001b[0m\u001b[0m\n\u001b[0m\u001b[0;32m    425\u001b[0m             response['value'] = self._unwrap_value(\n\u001b[0;32m    426\u001b[0m                 response.get('value', None))\n",
      "\u001b[1;32m~\\anaconda3\\lib\\site-packages\\selenium\\webdriver\\remote\\errorhandler.py\u001b[0m in \u001b[0;36mcheck_response\u001b[1;34m(self, response)\u001b[0m\n\u001b[0;32m    245\u001b[0m                 \u001b[0malert_text\u001b[0m \u001b[1;33m=\u001b[0m \u001b[0mvalue\u001b[0m\u001b[1;33m[\u001b[0m\u001b[1;34m'alert'\u001b[0m\u001b[1;33m]\u001b[0m\u001b[1;33m.\u001b[0m\u001b[0mget\u001b[0m\u001b[1;33m(\u001b[0m\u001b[1;34m'text'\u001b[0m\u001b[1;33m)\u001b[0m\u001b[1;33m\u001b[0m\u001b[1;33m\u001b[0m\u001b[0m\n\u001b[0;32m    246\u001b[0m             \u001b[1;32mraise\u001b[0m \u001b[0mexception_class\u001b[0m\u001b[1;33m(\u001b[0m\u001b[0mmessage\u001b[0m\u001b[1;33m,\u001b[0m \u001b[0mscreen\u001b[0m\u001b[1;33m,\u001b[0m \u001b[0mstacktrace\u001b[0m\u001b[1;33m,\u001b[0m \u001b[0malert_text\u001b[0m\u001b[1;33m)\u001b[0m  \u001b[1;31m# type: ignore[call-arg]  # mypy is not smart enough here\u001b[0m\u001b[1;33m\u001b[0m\u001b[1;33m\u001b[0m\u001b[0m\n\u001b[1;32m--> 247\u001b[1;33m         \u001b[1;32mraise\u001b[0m \u001b[0mexception_class\u001b[0m\u001b[1;33m(\u001b[0m\u001b[0mmessage\u001b[0m\u001b[1;33m,\u001b[0m \u001b[0mscreen\u001b[0m\u001b[1;33m,\u001b[0m \u001b[0mstacktrace\u001b[0m\u001b[1;33m)\u001b[0m\u001b[1;33m\u001b[0m\u001b[1;33m\u001b[0m\u001b[0m\n\u001b[0m\u001b[0;32m    248\u001b[0m \u001b[1;33m\u001b[0m\u001b[0m\n\u001b[0;32m    249\u001b[0m     \u001b[1;32mdef\u001b[0m \u001b[0m_value_or_default\u001b[0m\u001b[1;33m(\u001b[0m\u001b[0mself\u001b[0m\u001b[1;33m,\u001b[0m \u001b[0mobj\u001b[0m\u001b[1;33m:\u001b[0m \u001b[0mMapping\u001b[0m\u001b[1;33m[\u001b[0m\u001b[0m_KT\u001b[0m\u001b[1;33m,\u001b[0m \u001b[0m_VT\u001b[0m\u001b[1;33m]\u001b[0m\u001b[1;33m,\u001b[0m \u001b[0mkey\u001b[0m\u001b[1;33m:\u001b[0m \u001b[0m_KT\u001b[0m\u001b[1;33m,\u001b[0m \u001b[0mdefault\u001b[0m\u001b[1;33m:\u001b[0m \u001b[0m_VT\u001b[0m\u001b[1;33m)\u001b[0m \u001b[1;33m->\u001b[0m \u001b[0m_VT\u001b[0m\u001b[1;33m:\u001b[0m\u001b[1;33m\u001b[0m\u001b[1;33m\u001b[0m\u001b[0m\n",
      "\u001b[1;31mNoSuchElementException\u001b[0m: Message: no such element: Unable to locate element: {\"method\":\"css selector\",\"selector\":\"[id=\"search_btn\"]\"}\n  (Session info: chrome=97.0.4692.71)\nStacktrace:\nBacktrace:\n\tOrdinal0 [0x00B1FDC3+2555331]\n\tOrdinal0 [0x00AB77F1+2127857]\n\tOrdinal0 [0x009B2E08+1060360]\n\tOrdinal0 [0x009DE49E+1238174]\n\tOrdinal0 [0x009DE69B+1238683]\n\tOrdinal0 [0x00A09252+1413714]\n\tOrdinal0 [0x009F7B54+1342292]\n\tOrdinal0 [0x00A075FA+1406458]\n\tOrdinal0 [0x009F7976+1341814]\n\tOrdinal0 [0x009D36B6+1193654]\n\tOrdinal0 [0x009D4546+1197382]\n\tGetHandleVerifier [0x00CB9622+1619522]\n\tGetHandleVerifier [0x00D6882C+2336844]\n\tGetHandleVerifier [0x00BB23E1+541697]\n\tGetHandleVerifier [0x00BB1443+537699]\n\tOrdinal0 [0x00ABD18E+2150798]\n\tOrdinal0 [0x00AC1518+2168088]\n\tOrdinal0 [0x00AC1660+2168416]\n\tOrdinal0 [0x00ACB330+2208560]\n\tBaseThreadInitThunk [0x7530FA29+25]\n\tRtlGetAppContainerNamedObjectPath [0x77377A9E+286]\n\tRtlGetAppContainerNamedObjectPath [0x77377A6E+238]\n"
     ]
    }
   ],
   "source": [
    "# 2. 검색 버튼 찾기\n",
    "btn = driver.find_element_by_id(\"search_btn\")\n",
    "btn.click()"
   ]
  },
  {
   "cell_type": "code",
   "execution_count": 1,
   "id": "84fd6ec8",
   "metadata": {},
   "outputs": [
    {
     "ename": "NameError",
     "evalue": "name 'driver' is not defined",
     "output_type": "error",
     "traceback": [
      "\u001b[1;31m---------------------------------------------------------------------------\u001b[0m",
      "\u001b[1;31mNameError\u001b[0m                                 Traceback (most recent call last)",
      "\u001b[1;32m~\\AppData\\Local\\Temp/ipykernel_11636/2705763547.py\u001b[0m in \u001b[0;36m<module>\u001b[1;34m\u001b[0m\n\u001b[1;32m----> 1\u001b[1;33m \u001b[0mdriver\u001b[0m\u001b[1;33m.\u001b[0m\u001b[0mquit\u001b[0m\u001b[1;33m(\u001b[0m\u001b[1;33m)\u001b[0m   \u001b[1;31m# 프로그램 종료 될 수 있으면 이걸 권장\u001b[0m\u001b[1;33m\u001b[0m\u001b[1;33m\u001b[0m\u001b[0m\n\u001b[0m\u001b[0;32m      2\u001b[0m \u001b[1;31m# driver.close()  # 창 종료\u001b[0m\u001b[1;33m\u001b[0m\u001b[1;33m\u001b[0m\u001b[0m\n",
      "\u001b[1;31mNameError\u001b[0m: name 'driver' is not defined"
     ]
    }
   ],
   "source": [
    "driver.quit()   # 프로그램 종료 될 수 있으면 이걸 권장\n",
    "# driver.close()  # 창 종료 "
   ]
  },
  {
   "cell_type": "code",
   "execution_count": null,
   "id": "708d8fdd",
   "metadata": {},
   "outputs": [],
   "source": []
  },
  {
   "cell_type": "markdown",
   "id": "0b04adac",
   "metadata": {},
   "source": [
    "## 한솥도시락 사이트에서 메뉴, 가격 가져오기\n",
    " - https://www.hsd.co.kr/menu/menu_list"
   ]
  },
  {
   "cell_type": "code",
   "execution_count": 21,
   "id": "e6504796",
   "metadata": {},
   "outputs": [],
   "source": [
    "# 1. 브라우저 실행\n",
    "#2. 한솥 도시락 URL 이동\n",
    "driver = wb.Chrome()\n",
    "driver.get(\"https://www.hsd.co.kr/menu/menu_list\")"
   ]
  },
  {
   "cell_type": "code",
   "execution_count": 14,
   "id": "4e0657aa",
   "metadata": {
    "scrolled": true
   },
   "outputs": [
    {
     "name": "stderr",
     "output_type": "stream",
     "text": [
      "C:\\Users\\smhrd\\AppData\\Local\\Temp/ipykernel_6508/2588821237.py:1: DeprecationWarning: find_elements_by_* commands are deprecated. Please use find_elements() instead\n",
      "  driver.find_elements_by_css_selector(\"h4.h.fz_03\")[0].text\n"
     ]
    },
    {
     "ename": "IndexError",
     "evalue": "list index out of range",
     "output_type": "error",
     "traceback": [
      "\u001b[1;31m---------------------------------------------------------------------------\u001b[0m",
      "\u001b[1;31mIndexError\u001b[0m                                Traceback (most recent call last)",
      "\u001b[1;32m~\\AppData\\Local\\Temp/ipykernel_6508/2588821237.py\u001b[0m in \u001b[0;36m<module>\u001b[1;34m\u001b[0m\n\u001b[1;32m----> 1\u001b[1;33m \u001b[0mdriver\u001b[0m\u001b[1;33m.\u001b[0m\u001b[0mfind_elements_by_css_selector\u001b[0m\u001b[1;33m(\u001b[0m\u001b[1;34m\"h4.h.fz_03\"\u001b[0m\u001b[1;33m)\u001b[0m\u001b[1;33m[\u001b[0m\u001b[1;36m0\u001b[0m\u001b[1;33m]\u001b[0m\u001b[1;33m.\u001b[0m\u001b[0mtext\u001b[0m\u001b[1;33m\u001b[0m\u001b[1;33m\u001b[0m\u001b[0m\n\u001b[0m",
      "\u001b[1;31mIndexError\u001b[0m: list index out of range"
     ]
    }
   ],
   "source": [
    "driver.find_elements_by_css_selector(\"h4.h.fz_03\")[0].text"
   ]
  },
  {
   "cell_type": "code",
   "execution_count": 25,
   "id": "d62620a1",
   "metadata": {},
   "outputs": [
    {
     "name": "stderr",
     "output_type": "stream",
     "text": [
      "C:\\Users\\smhrd\\AppData\\Local\\Temp/ipykernel_6508/3930415597.py:1: DeprecationWarning: find_elements_by_* commands are deprecated. Please use find_elements() instead\n",
      "  title =driver.find_elements_by_css_selector(\"h4.h.fz_03\")\n"
     ]
    }
   ],
   "source": [
    "title =driver.find_elements_by_css_selector(\"h4.h.fz_03\")"
   ]
  },
  {
   "cell_type": "code",
   "execution_count": 26,
   "id": "2a03cb73",
   "metadata": {},
   "outputs": [
    {
     "name": "stdout",
     "output_type": "stream",
     "text": [
      "행사 숯불직화구이 덮밥\n",
      "행사 제육 김치 부대찌개 정식\n",
      "행사 빅치킨마요 김치 부대찌개 정식\n",
      "행사 돈까스도련님 고기고기\n",
      "행사 동백\n",
      "행사 새치 고기고기\n",
      "행사 진달래\n",
      "행사 스팸 김치볶음밥\n",
      "매화(치킨, 연어구이)\n",
      "매화(순살 고등어 간장구이)\n",
      "진달래\n",
      "개나리(순살 고등어 간장구이)\n",
      "돈까스도련님고기고기\n",
      "탕수육도련님고기고기\n",
      "새치 고기고기\n",
      "돈치 고기고기\n",
      "고기고기\n",
      "숯불직화구이\n",
      "소불고기\n",
      "메가치킨제육\n",
      "칠리 찹쌀탕수육도련님\n",
      "동백\n",
      "치킨제육\n",
      "돈까스도련님\n",
      "제육볶음\n",
      "돈치스팸 도시락\n",
      "제육 김치찌개 정식\n",
      "제육 김치 부대찌개 정식\n",
      "돈치스팸 김치 부대찌개 정식\n",
      "빅치킨마요 김치 부대찌개 정식\n",
      "치킨마요 김치 부대찌개 정식\n",
      "돈치스팸 김치찌개 정식\n",
      "빅치킨마요 김치찌개 정식\n",
      "치킨마요 김치찌개 정식\n",
      "메가스팸마요\n",
      "스팸마요\n",
      "메가치킨마요\n",
      "왕치킨마요\n",
      "빅치킨마요\n",
      "치킨마요\n",
      "참치마요\n",
      "돈치마요\n",
      "치즈 카레도시락\n",
      "돈까스 카레\n",
      "3종치즈 김치볶음밥\n",
      "스팸 김치볶음밥\n",
      "김치볶음밥\n",
      "스팸철판볶음밥\n",
      "소불고기 철판볶음밥\n",
      "소고기 육개장\n",
      "묵은지 김치찌개\n",
      "김치 부대찌개\n",
      "반찬 김치 부대찌개\n",
      "숯불직화구이 덮밥\n",
      "마파두부 덮밥\n",
      "왕카레돈까스덮밥\n",
      "새우돈까스 덮밥\n",
      "돈까스 덮밥\n",
      "소불고기 감초고추장 비빔밥\n",
      "시골제육 두부강된장 비빔밥\n",
      "참치야채 감초고추장\n",
      "두부강정 야채비빔밥\n",
      "열무 두부강된장 비빔밥\n",
      "튼튼도시락\n"
     ]
    }
   ],
   "source": [
    "for i in title :\n",
    "    print(i.text)"
   ]
  },
  {
   "cell_type": "code",
   "execution_count": 16,
   "id": "cfac8d03",
   "metadata": {},
   "outputs": [
    {
     "name": "stderr",
     "output_type": "stream",
     "text": [
      "C:\\Users\\smhrd\\AppData\\Local\\Temp/ipykernel_6508/3962881029.py:1: DeprecationWarning: find_elements_by_* commands are deprecated. Please use find_elements() instead\n",
      "  price = driver.find_elements_by_css_selector(\"div.item-price > strong\")\n"
     ]
    }
   ],
   "source": [
    "price = driver.find_elements_by_css_selector(\"div.item-price > strong\")"
   ]
  },
  {
   "cell_type": "code",
   "execution_count": 19,
   "id": "16fdf1b8",
   "metadata": {},
   "outputs": [],
   "source": [
    "for i in price :\n",
    "    print(i.text)"
   ]
  },
  {
   "cell_type": "code",
   "execution_count": 27,
   "id": "e5ddeb03",
   "metadata": {},
   "outputs": [
    {
     "name": "stderr",
     "output_type": "stream",
     "text": [
      "C:\\Users\\smhrd\\AppData\\Local\\Temp/ipykernel_6508/2835628586.py:2: DeprecationWarning: find_element_by_* commands are deprecated. Please use find_element() instead\n",
      "  btn= driver.find_element_by_css_selector(\"a.c_05\")\n"
     ]
    }
   ],
   "source": [
    "# 더보기 클릭\n",
    "btn= driver.find_element_by_css_selector(\"a.c_05\")\n"
   ]
  },
  {
   "cell_type": "code",
   "execution_count": null,
   "id": "b6b2d482",
   "metadata": {},
   "outputs": [],
   "source": [
    "btn.click()"
   ]
  },
  {
   "cell_type": "markdown",
   "id": "0db07785",
   "metadata": {},
   "source": [
    "## dP 예외처리 try, except\n",
    "- try : 오류가 나기 전까지 실행할 로직\n",
    "- except : 오류가 낫을 때 실행할 로직"
   ]
  },
  {
   "cell_type": "code",
   "execution_count": 22,
   "id": "3a942b59",
   "metadata": {},
   "outputs": [],
   "source": [
    "# time 라이브러리\n",
    "# 코드 중간중간에 쉬는 시간을 부여함\n",
    "import time"
   ]
  },
  {
   "cell_type": "code",
   "execution_count": 28,
   "id": "fb5b9819",
   "metadata": {},
   "outputs": [
    {
     "name": "stderr",
     "output_type": "stream",
     "text": [
      "C:\\Users\\smhrd\\AppData\\Local\\Temp/ipykernel_6508/2320613119.py:2: DeprecationWarning: find_element_by_* commands are deprecated. Please use find_element() instead\n",
      "  btn= driver.find_element_by_css_selector(\"a.c_05\")\n"
     ]
    },
    {
     "name": "stdout",
     "output_type": "stream",
     "text": [
      "더보기가 끝났습니다.\n"
     ]
    }
   ],
   "source": [
    "# 더보기 클릭\n",
    "btn= driver.find_element_by_css_selector(\"a.c_05\")\n",
    "\n",
    "# 정말 많이 쓰게 될 것  try except\n",
    "try:\n",
    "    for i in range(10):\n",
    "        btn.click()\n",
    "        time.sleep(2)\n",
    "except:\n",
    "    print(\"더보기가 끝났습니다.\")"
   ]
  },
  {
   "cell_type": "code",
   "execution_count": 29,
   "id": "301194c1",
   "metadata": {},
   "outputs": [],
   "source": [
    "# 모든 메뉴명과 가격 수집 , 데이터 프레임화\n",
    "import pandas as pd"
   ]
  },
  {
   "cell_type": "code",
   "execution_count": 30,
   "id": "08c02ebc",
   "metadata": {},
   "outputs": [
    {
     "name": "stderr",
     "output_type": "stream",
     "text": [
      "C:\\Users\\smhrd\\AppData\\Local\\Temp/ipykernel_6508/3878195095.py:1: DeprecationWarning: find_elements_by_* commands are deprecated. Please use find_elements() instead\n",
      "  title =driver.find_elements_by_css_selector(\"h4.h.fz_03\")\n",
      "C:\\Users\\smhrd\\AppData\\Local\\Temp/ipykernel_6508/3878195095.py:2: DeprecationWarning: find_elements_by_* commands are deprecated. Please use find_elements() instead\n",
      "  price = driver.find_elements_by_css_selector(\"div.item-price > strong\")\n"
     ]
    }
   ],
   "source": [
    "title =driver.find_elements_by_css_selector(\"h4.h.fz_03\")\n",
    "price = driver.find_elements_by_css_selector(\"div.item-price > strong\")\n",
    "\n",
    "title_list=[]\n",
    "price_list=[]\n",
    "ind_num=[]\n",
    "\n",
    "for i in range(len(title)) :\n",
    "    title_list.append(title[i].text)\n",
    "    price_list.append(price[i].text)\n",
    "    ind_num.append(i+1)\n",
    "    \n",
    "dic = {'메뉴':title_list, '가격':price_list, '순번':ind_num}  \n",
    "df= pd.DataFrame(dic)\n",
    "\n",
    "    "
   ]
  },
  {
   "cell_type": "code",
   "execution_count": null,
   "id": "ac799c06",
   "metadata": {},
   "outputs": [],
   "source": [
    "df.set_index('순번',inplace = True)\n",
    "df"
   ]
  },
  {
   "cell_type": "code",
   "execution_count": null,
   "id": "b91020f9",
   "metadata": {},
   "outputs": [],
   "source": [
    "# 1. euc-kr\n",
    "# 2. \"\" \n",
    "# 3. utf-8-sif\n",
    "df.to_csv(\"한솥.csv\", encoding=\"euc-kr\")"
   ]
  },
  {
   "cell_type": "code",
   "execution_count": null,
   "id": "63d3adc7",
   "metadata": {},
   "outputs": [],
   "source": [
    "df.to_html(\"한솥.html\")"
   ]
  },
  {
   "cell_type": "code",
   "execution_count": null,
   "id": "9b3ec36d",
   "metadata": {},
   "outputs": [],
   "source": []
  },
  {
   "cell_type": "code",
   "execution_count": null,
   "id": "e3822875",
   "metadata": {},
   "outputs": [],
   "source": []
  },
  {
   "cell_type": "code",
   "execution_count": null,
   "id": "05a25a12",
   "metadata": {},
   "outputs": [],
   "source": []
  },
  {
   "cell_type": "code",
   "execution_count": null,
   "id": "3ad855ba",
   "metadata": {},
   "outputs": [],
   "source": []
  },
  {
   "cell_type": "code",
   "execution_count": null,
   "id": "0fcd5a03",
   "metadata": {},
   "outputs": [],
   "source": []
  }
 ],
 "metadata": {
  "kernelspec": {
   "display_name": "Python 3 (ipykernel)",
   "language": "python",
   "name": "python3"
  },
  "language_info": {
   "codemirror_mode": {
    "name": "ipython",
    "version": 3
   },
   "file_extension": ".py",
   "mimetype": "text/x-python",
   "name": "python",
   "nbconvert_exporter": "python",
   "pygments_lexer": "ipython3",
   "version": "3.9.7"
  }
 },
 "nbformat": 4,
 "nbformat_minor": 5
}
